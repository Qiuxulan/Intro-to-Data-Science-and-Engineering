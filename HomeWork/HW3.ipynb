{
 "cells": [
  {
   "cell_type": "markdown",
   "metadata": {},
   "source": [
    "1.编写 Python程序,判断输入a是否为质数"
   ]
  },
  {
   "cell_type": "code",
   "execution_count": 3,
   "metadata": {},
   "outputs": [
    {
     "name": "stdout",
     "output_type": "stream",
     "text": [
      "NO\n"
     ]
    }
   ],
   "source": [
    "from math import sqrt\n",
    "a=int(input())\n",
    "if a<=1:print(\"NO\")\n",
    "else:\n",
    "    for i in range(2,int(sqrt(a))+1):\n",
    "        if a%i==0:\n",
    "            print(\"NO\")\n",
    "            break\n",
    "    else:print(\"YES\")"
   ]
  },
  {
   "cell_type": "markdown",
   "metadata": {},
   "source": [
    "2.用Python实现插入排序该算法，不允许直接调用插入排序函数，需要手动实现其逻辑过程。"
   ]
  },
  {
   "cell_type": "code",
   "execution_count": 15,
   "metadata": {},
   "outputs": [
    {
     "name": "stdout",
     "output_type": "stream",
     "text": [
      "[3, 3, 4, 4, 5, 6, 8, 8, 8, 9]\n"
     ]
    }
   ],
   "source": [
    "def insertionsort(arr):\n",
    "    for i in range(1,len(arr)):\n",
    "        temp=arr[i]\n",
    "        for j in range(i-1,-1,-1):\n",
    "            if arr[j]>temp:\n",
    "                arr[j+1]=arr[j]\n",
    "            else:\n",
    "                arr[j+1]=temp\n",
    "                break\n",
    "    return arr\n",
    "a=[int(i) for i in input().split()]\n",
    "print(insertionsort(a))\n"
   ]
  },
  {
   "cell_type": "markdown",
   "metadata": {},
   "source": [
    "3.用Python实现选择排序该算法，不允许直接调用选择排序函数，需要手动实现其逻辑过程。"
   ]
  },
  {
   "cell_type": "code",
   "execution_count": 16,
   "metadata": {},
   "outputs": [
    {
     "name": "stdout",
     "output_type": "stream",
     "text": [
      "[0, 2, 3, 3, 4, 5, 7, 9]\n"
     ]
    }
   ],
   "source": [
    "def selectionsort(arr):\n",
    "    for i in range(len(arr)):\n",
    "        min_idx = i\n",
    "        for j in range(i+1, len(arr)):\n",
    "            if arr[min_idx] > arr[j]:\n",
    "                min_idx = j\n",
    "        arr[i], arr[min_idx] = arr[min_idx], arr[i]\n",
    "    return arr\n",
    "a=[int(i) for i in input().split()]\n",
    "print(selectionsort(a))\n"
   ]
  },
  {
   "cell_type": "markdown",
   "metadata": {},
   "source": [
    "4.用Python实现快速排序该算法，不允许直接调用快速排序函数，需要手动实现其逻辑过程。"
   ]
  },
  {
   "cell_type": "code",
   "execution_count": 17,
   "metadata": {},
   "outputs": [
    {
     "name": "stdout",
     "output_type": "stream",
     "text": [
      "[0, 3, 3, 4, 5, 6, 7, 8, 9, 10]\n"
     ]
    }
   ],
   "source": [
    "def quicksort(list,p,r):\n",
    "    if p<r:\n",
    "        q=partion(list,p,r)\n",
    "        quicksort(list,p,q)\n",
    "        quicksort(list,q+1,r)\n",
    "def partion(list,p,r):\n",
    "    i=p-1\n",
    "    for j in range(p,r):\n",
    "        if list[j]<=list[r]:\n",
    "            i+=1\n",
    "            list[i],list[j]=list[j],list[i]\n",
    "    list[i+1],list[r]=list[r],list[i+1]\n",
    "    return i\n",
    "l=[int(i) for i in input().split()]\n",
    "quicksort(l,0,len(l)-1)\n",
    "print(l)"
   ]
  },
  {
   "cell_type": "markdown",
   "metadata": {},
   "source": [
    "5.使用 Python 随机生成三组长度递增的随机数列，长度分别为100、1000、10000，对生成的随机数组使用不同的排序算法，例如选择排序和归并排序，至少三种排序方法。对这些数列的数据排序，并分析不同排序算法在不同长度数列下的运行效果，例如运行时间等指标。（可以使用排序函数）"
   ]
  },
  {
   "cell_type": "code",
   "execution_count": 19,
   "metadata": {},
   "outputs": [
    {
     "name": "stdout",
     "output_type": "stream",
     "text": [
      "Number 1\n",
      "Running time(selectionsort): 0.0 Seconds\n",
      "Running time(MergeSort): 0.0 Seconds\n",
      "Running time(sort): 0.0 Seconds\n",
      "Number 2\n",
      "Running time(selectionsort): 0.03724861145019531 Seconds\n",
      "Running time(MergeSort): 0.0029904842376708984 Seconds\n",
      "Running time(sort): 0.0 Seconds\n",
      "Number 3\n",
      "Running time(selectionsort): 1.5380768775939941 Seconds\n",
      "Running time(MergeSort): 0.0 Seconds\n",
      "Running time(sort): 0.0 Seconds\n"
     ]
    }
   ],
   "source": [
    "import random\n",
    "import time\n",
    "def selectionsort(list):\n",
    "    for i in range(len(list)):\n",
    "        min_idx=i\n",
    "        for j in range(i+1,len(list)):\n",
    "            if list[j]<list[min_idx]:\n",
    "                min_idx=j\n",
    "        list[i],list[min_idx]=list[min_idx],list[i]\n",
    "    return list\n",
    "\n",
    "def MergeSort(lists):\n",
    "    if len(lists) <= 1:\n",
    "        return lists\n",
    "    num = int( len(lists) / 2 )\n",
    "    left = MergeSort(lists[:num])\n",
    "    right = MergeSort(lists[num:])\n",
    "    return Merge(left, right)\n",
    " \n",
    "def Merge(left,right):\n",
    "    r, l=0, 0\n",
    "    result=[]\n",
    "    while l<len(left) and r<len(right):\n",
    "        if left[l] <= right[r]:\n",
    "            result.append(left[l])\n",
    "            l += 1\n",
    "        else:\n",
    "            result.append(right[r])\n",
    "            r += 1\n",
    "    result += list(left[l:])\n",
    "    result += list(right[r:])\n",
    "    return result\n",
    "    \n",
    "list1 = [random.randint(1, 1000) for _ in range(100)]\n",
    "list2 = [random.randint(1, 1000) for _ in range(1000)]\n",
    "list3 = [random.randint(1, 1000) for _ in range(10000)]\n",
    "for i in range(3):\n",
    "    l=[list1,list2,list3][i]\n",
    "    print(\"Number %d\" % (i+1))\n",
    "\n",
    "    start = time.time()\n",
    "    se=selectionsort(l)\n",
    "    end=time.time()\n",
    "    print('Running time(selectionsort): %s Seconds'%(end-start))\n",
    "\n",
    "    start = time.time()\n",
    "    me=MergeSort(l)\n",
    "    end=time.time()\n",
    "    print('Running time(MergeSort): %s Seconds'%(end-start))\n",
    "\n",
    "    start = time.time()\n",
    "    l.sort()\n",
    "    end=time.time()\n",
    "    print('Running time(sort): %s Seconds'%(end-start))\n",
    "\n",
    "\n",
    "\n"
   ]
  },
  {
   "cell_type": "markdown",
   "metadata": {},
   "source": [
    "6.使用python代码获取当前系统时间"
   ]
  },
  {
   "cell_type": "code",
   "execution_count": 4,
   "metadata": {},
   "outputs": [
    {
     "name": "stdout",
     "output_type": "stream",
     "text": [
      "2024-12-16 14:10:56.710351\n"
     ]
    }
   ],
   "source": [
    "from datetime import datetime\n",
    "t=datetime.now()\n",
    "print(t)"
   ]
  },
  {
   "cell_type": "markdown",
   "metadata": {},
   "source": [
    "7.Homework/data文件夹下的stuGrade.csv文件中包含5位同学的学号、语文成绩、数学成绩和英语成绩，请先用记事本打开该文件，查看文件内容，然后编写Python程序，读取该文件，并计算出各科的平均成绩（保留2位小数）。"
   ]
  },
  {
   "cell_type": "code",
   "execution_count": 1,
   "metadata": {},
   "outputs": [
    {
     "name": "stdout",
     "output_type": "stream",
     "text": [
      "   stuID  chinese  math  english\n",
      "0  10381     74.0  87.0     82.0\n",
      "1  10382     92.0  88.0     90.0\n",
      "2  10383     87.0  82.0     81.0\n",
      "3  10384     98.0  97.0     96.0\n",
      "4  10385     62.0  51.0     60.0\n",
      "5     平均     82.6  81.0     81.8\n"
     ]
    }
   ],
   "source": [
    "import pandas as pd\n",
    "df=pd.read_csv(\"D:\\\\Data_code\\\\Courses\\\\ItDSaE\\\\hw3_stuGrade.csv\")\n",
    "ave_ch=df['chinese'].mean().round(2)\n",
    "ave_ma=df['math'].mean().round(2)\n",
    "ave_en=df['english'].mean().round(2)\n",
    "new_row = pd.DataFrame({'stuID': ['平均'], 'chinese': [ave_ch],'math': [ave_ma], 'english': [ave_en]})\n",
    "df_add = pd.concat([df, new_row], ignore_index=True)\n",
    "print(df_add)"
   ]
  },
  {
   "cell_type": "markdown",
   "metadata": {},
   "source": [
    "8.请在第7题的代码继续编写Python程序，将以下内容写入my.txt文件中，一并上传到github中。\n",
    "\n",
    "第1行：你的学号和姓名\n",
    "\n",
    "第2行：3门课程的平均成绩（任意课程），保留2位小数，以英文逗号间隔\n",
    "\n",
    "第3行：系统当前时间，格式例如2020-01-01 12:00:00\n",
    "\n",
    "第4行：两秒后的系统当前时间（利用sleep()方法）"
   ]
  },
  {
   "cell_type": "code",
   "execution_count": 2,
   "metadata": {},
   "outputs": [],
   "source": [
    "import pandas as pd\n",
    "import time\n",
    "from datetime import datetime, timedelta\n",
    "with open('hw3_my.txt', 'w') as file:\n",
    "    # 这里假设学号是123456，姓名是张三，你可以替换成自己的实际信息\n",
    "    file.write(\"10245501478,邱徐岚\\n\")\n",
    "    file.write(f\"数据科学与工程导论：{4.0},程序设计：{4.0},数据结构：{4.0}\\n\")\n",
    "    current_time = datetime.now().strftime('%Y-%m-%d %H:%M:%S')\n",
    "    file.write(current_time + \"\\n\")\n",
    "    time.sleep(2)\n",
    "    new_time = datetime.now().strftime('%Y-%m-%d %H:%M:%S')\n",
    "    file.write(new_time + \"\\n\")"
   ]
  }
 ],
 "metadata": {
  "kernelspec": {
   "display_name": "Python 3",
   "language": "python",
   "name": "python3"
  },
  "language_info": {
   "codemirror_mode": {
    "name": "ipython",
    "version": 3
   },
   "file_extension": ".py",
   "mimetype": "text/x-python",
   "name": "python",
   "nbconvert_exporter": "python",
   "pygments_lexer": "ipython3",
   "version": "3.12.0"
  }
 },
 "nbformat": 4,
 "nbformat_minor": 2
}
