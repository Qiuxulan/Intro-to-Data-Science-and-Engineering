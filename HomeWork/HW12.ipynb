{
 "cells": [
  {
   "cell_type": "markdown",
   "metadata": {},
   "source": [
    "实验内容\n",
    "1.人口统计分析\n",
    "(1)国家和地区分布：统计用户所在国家和地区的分布，识别主要的开发者集中地。"
   ]
  },
  {
   "cell_type": "code",
   "execution_count": 2,
   "metadata": {},
   "outputs": [
    {
     "name": "stdout",
     "output_type": "stream",
     "text": [
      "<class 'pandas.core.frame.DataFrame'>\n",
      "RangeIndex: 1294776 entries, 0 to 1294775\n",
      "Data columns (total 8 columns):\n",
      " #   Column           Non-Null Count    Dtype  \n",
      "---  ------           --------------    -----  \n",
      " 0   user_id          1294776 non-null  int64  \n",
      " 1   name             1294776 non-null  object \n",
      " 2   location         1294776 non-null  object \n",
      " 3   total_influence  1294776 non-null  float64\n",
      " 4   country          1206625 non-null  object \n",
      " 5   event_type       1294776 non-null  object \n",
      " 6   event_action     1294776 non-null  object \n",
      " 7   event_time       1294776 non-null  object \n",
      "dtypes: float64(1), int64(1), object(6)\n",
      "memory usage: 79.0+ MB\n",
      "None\n",
      "   user_id    name     location  total_influence        country   event_type  \\\n",
      "0   663432  bdraco  Houston, TX      1776.967163  United States  CreateEvent   \n",
      "1   663432  bdraco  Houston, TX      1776.967163  United States  CreateEvent   \n",
      "2   663432  bdraco  Houston, TX      1776.967163  United States  CreateEvent   \n",
      "3   663432  bdraco  Houston, TX      1776.967163  United States  CreateEvent   \n",
      "4   663432  bdraco  Houston, TX      1776.967163  United States  CreateEvent   \n",
      "\n",
      "  event_action                 event_time  \n",
      "0        added  2024-11-26 20:28:37+08:00  \n",
      "1        added  2024-11-26 20:42:57+08:00  \n",
      "2        added  2024-11-27 04:10:46+08:00  \n",
      "3        added  2024-11-27 17:43:50+08:00  \n",
      "4        added  2024-11-27 19:56:34+08:00  \n"
     ]
    }
   ],
   "source": [
    "import pandas as pd\n",
    "\n",
    "data = pd.read_csv('D:\\\\Data_code\\\\Courses\\\\ItDSaE\\\\hw12_users_combined_info_500.csv')\n",
    "\n",
    "# 查看数据的基本信息，确认是否包含国家/地区信息\n",
    "print(data.info())\n",
    "print(data.head())"
   ]
  },
  {
   "cell_type": "code",
   "execution_count": 3,
   "metadata": {},
   "outputs": [
    {
     "name": "stdout",
     "output_type": "stream",
     "text": [
      "前30个国家的分布：\n",
      "country\n",
      "United States           305788\n",
      "Germany                 182659\n",
      "China                    73011\n",
      "United Kingdom           71606\n",
      "France                   59570\n",
      "Canada                   58600\n",
      "Netherlands              52367\n",
      "Czechia                  48122\n",
      "Japan                    46553\n",
      "Switzerland              38093\n",
      "Australia                35746\n",
      "Italy                    30671\n",
      "Poland                   20002\n",
      "New Zealand              18444\n",
      "Spain                    14939\n",
      "Austria                  11758\n",
      "Sweden                    9851\n",
      "Finland                   8815\n",
      "Denmark                   7412\n",
      "Bulgaria                  7357\n",
      "Hungary                   7080\n",
      "Belgium                   6628\n",
      "Norway                    6004\n",
      "India                     5689\n",
      "United Arab Emirates      5264\n",
      "Singapore                 5205\n",
      "Brazil                    5022\n",
      "Hong Kong                 4767\n",
      "Malaysia                  4538\n",
      "Pakistan                  4462\n",
      "Name: count, dtype: int64\n"
     ]
    }
   ],
   "source": [
    "# 统计各个国家的分布\n",
    "country_counts = data['country'].value_counts()\n",
    "\n",
    "# 显示前30个国家,查看开发者集中地\n",
    "print(\"前30个国家的分布：\")\n",
    "print(country_counts.head(30))"
   ]
  },
  {
   "cell_type": "code",
   "execution_count": 4,
   "metadata": {},
   "outputs": [
    {
     "data": {
      "application/vnd.plotly.v1+json": {
       "config": {
        "plotlyServerURL": "https://plot.ly"
       },
       "data": [
        {
         "coloraxis": "coloraxis",
         "geo": "geo",
         "hovertemplate": "<b>%{hovertext}</b><br><br>iso_alpha=%{location}<br>用户数量=%{z}<extra></extra>",
         "hovertext": [
          "United States",
          "Germany",
          "China",
          "United Kingdom",
          "France",
          "Canada",
          "Netherlands",
          "Czechia",
          "Japan",
          "Switzerland",
          "Australia",
          "Italy",
          "Poland",
          "New Zealand",
          "Spain",
          "Austria",
          "Sweden",
          "Finland",
          "Denmark",
          "Bulgaria",
          "Hungary",
          "Belgium",
          "Norway",
          "India",
          "United Arab Emirates",
          "Singapore",
          "Brazil",
          "Hong Kong",
          "Malaysia",
          "Pakistan",
          "Indonesia",
          "Tunisia",
          "Ethiopia",
          "Colombia",
          "Slovenia",
          "Ireland",
          "Lebanon",
          "Ecuador",
          "Greece",
          "Portugal",
          "Kenya",
          "Egypt",
          "Georgia",
          "Estonia",
          "Lithuania",
          "South Africa",
          "Türkiye",
          "Israel"
         ],
         "locations": [
          "USA",
          "DEU",
          "CHN",
          "GBR",
          "FRA",
          "CAN",
          "NLD",
          "CZE",
          "JPN",
          "CHE",
          "AUS",
          "ITA",
          "POL",
          "NZL",
          "ESP",
          "AUT",
          "SWE",
          "FIN",
          "DNK",
          "BGR",
          "HUN",
          "BEL",
          "NOR",
          "IND",
          "ARE",
          "SGP",
          "BRA",
          "HKG",
          "MYS",
          "PAK",
          "IDN",
          "TUN",
          "ETH",
          "COL",
          "SVN",
          "IRL",
          "LBN",
          "ECU",
          "GRC",
          "PRT",
          "KEN",
          "EGY",
          "GEO",
          "EST",
          "LTU",
          "ZAF",
          "TUR",
          "ISR"
         ],
         "name": "",
         "type": "choropleth",
         "z": [
          305788,
          182659,
          73011,
          71606,
          59570,
          58600,
          52367,
          48122,
          46553,
          38093,
          35746,
          30671,
          20002,
          18444,
          14939,
          11758,
          9851,
          8815,
          7412,
          7357,
          7080,
          6628,
          6004,
          5689,
          5264,
          5205,
          5022,
          4767,
          4538,
          4462,
          4248,
          2776,
          2637,
          2590,
          2589,
          2443,
          2259,
          2179,
          2176,
          2133,
          2068,
          2008,
          1845,
          1781,
          1186,
          973,
          925,
          922
         ]
        }
       ],
       "layout": {
        "coloraxis": {
         "colorbar": {
          "title": {
           "text": "用户数量"
          }
         },
         "colorscale": [
          [
           0,
           "#440154"
          ],
          [
           0.1111111111111111,
           "#482878"
          ],
          [
           0.2222222222222222,
           "#3e4989"
          ],
          [
           0.3333333333333333,
           "#31688e"
          ],
          [
           0.4444444444444444,
           "#26828e"
          ],
          [
           0.5555555555555556,
           "#1f9e89"
          ],
          [
           0.6666666666666666,
           "#35b779"
          ],
          [
           0.7777777777777778,
           "#6ece58"
          ],
          [
           0.8888888888888888,
           "#b5de2b"
          ],
          [
           1,
           "#fde725"
          ]
         ]
        },
        "geo": {
         "center": {},
         "coastlinecolor": "Black",
         "domain": {
          "x": [
           0,
           1
          ],
          "y": [
           0,
           1
          ]
         },
         "projection": {
          "type": "natural earth"
         },
         "showcoastlines": true
        },
        "legend": {
         "tracegroupgap": 0
        },
        "template": {
         "data": {
          "bar": [
           {
            "error_x": {
             "color": "#2a3f5f"
            },
            "error_y": {
             "color": "#2a3f5f"
            },
            "marker": {
             "line": {
              "color": "#E5ECF6",
              "width": 0.5
             },
             "pattern": {
              "fillmode": "overlay",
              "size": 10,
              "solidity": 0.2
             }
            },
            "type": "bar"
           }
          ],
          "barpolar": [
           {
            "marker": {
             "line": {
              "color": "#E5ECF6",
              "width": 0.5
             },
             "pattern": {
              "fillmode": "overlay",
              "size": 10,
              "solidity": 0.2
             }
            },
            "type": "barpolar"
           }
          ],
          "carpet": [
           {
            "aaxis": {
             "endlinecolor": "#2a3f5f",
             "gridcolor": "white",
             "linecolor": "white",
             "minorgridcolor": "white",
             "startlinecolor": "#2a3f5f"
            },
            "baxis": {
             "endlinecolor": "#2a3f5f",
             "gridcolor": "white",
             "linecolor": "white",
             "minorgridcolor": "white",
             "startlinecolor": "#2a3f5f"
            },
            "type": "carpet"
           }
          ],
          "choropleth": [
           {
            "colorbar": {
             "outlinewidth": 0,
             "ticks": ""
            },
            "type": "choropleth"
           }
          ],
          "contour": [
           {
            "colorbar": {
             "outlinewidth": 0,
             "ticks": ""
            },
            "colorscale": [
             [
              0,
              "#0d0887"
             ],
             [
              0.1111111111111111,
              "#46039f"
             ],
             [
              0.2222222222222222,
              "#7201a8"
             ],
             [
              0.3333333333333333,
              "#9c179e"
             ],
             [
              0.4444444444444444,
              "#bd3786"
             ],
             [
              0.5555555555555556,
              "#d8576b"
             ],
             [
              0.6666666666666666,
              "#ed7953"
             ],
             [
              0.7777777777777778,
              "#fb9f3a"
             ],
             [
              0.8888888888888888,
              "#fdca26"
             ],
             [
              1,
              "#f0f921"
             ]
            ],
            "type": "contour"
           }
          ],
          "contourcarpet": [
           {
            "colorbar": {
             "outlinewidth": 0,
             "ticks": ""
            },
            "type": "contourcarpet"
           }
          ],
          "heatmap": [
           {
            "colorbar": {
             "outlinewidth": 0,
             "ticks": ""
            },
            "colorscale": [
             [
              0,
              "#0d0887"
             ],
             [
              0.1111111111111111,
              "#46039f"
             ],
             [
              0.2222222222222222,
              "#7201a8"
             ],
             [
              0.3333333333333333,
              "#9c179e"
             ],
             [
              0.4444444444444444,
              "#bd3786"
             ],
             [
              0.5555555555555556,
              "#d8576b"
             ],
             [
              0.6666666666666666,
              "#ed7953"
             ],
             [
              0.7777777777777778,
              "#fb9f3a"
             ],
             [
              0.8888888888888888,
              "#fdca26"
             ],
             [
              1,
              "#f0f921"
             ]
            ],
            "type": "heatmap"
           }
          ],
          "heatmapgl": [
           {
            "colorbar": {
             "outlinewidth": 0,
             "ticks": ""
            },
            "colorscale": [
             [
              0,
              "#0d0887"
             ],
             [
              0.1111111111111111,
              "#46039f"
             ],
             [
              0.2222222222222222,
              "#7201a8"
             ],
             [
              0.3333333333333333,
              "#9c179e"
             ],
             [
              0.4444444444444444,
              "#bd3786"
             ],
             [
              0.5555555555555556,
              "#d8576b"
             ],
             [
              0.6666666666666666,
              "#ed7953"
             ],
             [
              0.7777777777777778,
              "#fb9f3a"
             ],
             [
              0.8888888888888888,
              "#fdca26"
             ],
             [
              1,
              "#f0f921"
             ]
            ],
            "type": "heatmapgl"
           }
          ],
          "histogram": [
           {
            "marker": {
             "pattern": {
              "fillmode": "overlay",
              "size": 10,
              "solidity": 0.2
             }
            },
            "type": "histogram"
           }
          ],
          "histogram2d": [
           {
            "colorbar": {
             "outlinewidth": 0,
             "ticks": ""
            },
            "colorscale": [
             [
              0,
              "#0d0887"
             ],
             [
              0.1111111111111111,
              "#46039f"
             ],
             [
              0.2222222222222222,
              "#7201a8"
             ],
             [
              0.3333333333333333,
              "#9c179e"
             ],
             [
              0.4444444444444444,
              "#bd3786"
             ],
             [
              0.5555555555555556,
              "#d8576b"
             ],
             [
              0.6666666666666666,
              "#ed7953"
             ],
             [
              0.7777777777777778,
              "#fb9f3a"
             ],
             [
              0.8888888888888888,
              "#fdca26"
             ],
             [
              1,
              "#f0f921"
             ]
            ],
            "type": "histogram2d"
           }
          ],
          "histogram2dcontour": [
           {
            "colorbar": {
             "outlinewidth": 0,
             "ticks": ""
            },
            "colorscale": [
             [
              0,
              "#0d0887"
             ],
             [
              0.1111111111111111,
              "#46039f"
             ],
             [
              0.2222222222222222,
              "#7201a8"
             ],
             [
              0.3333333333333333,
              "#9c179e"
             ],
             [
              0.4444444444444444,
              "#bd3786"
             ],
             [
              0.5555555555555556,
              "#d8576b"
             ],
             [
              0.6666666666666666,
              "#ed7953"
             ],
             [
              0.7777777777777778,
              "#fb9f3a"
             ],
             [
              0.8888888888888888,
              "#fdca26"
             ],
             [
              1,
              "#f0f921"
             ]
            ],
            "type": "histogram2dcontour"
           }
          ],
          "mesh3d": [
           {
            "colorbar": {
             "outlinewidth": 0,
             "ticks": ""
            },
            "type": "mesh3d"
           }
          ],
          "parcoords": [
           {
            "line": {
             "colorbar": {
              "outlinewidth": 0,
              "ticks": ""
             }
            },
            "type": "parcoords"
           }
          ],
          "pie": [
           {
            "automargin": true,
            "type": "pie"
           }
          ],
          "scatter": [
           {
            "fillpattern": {
             "fillmode": "overlay",
             "size": 10,
             "solidity": 0.2
            },
            "type": "scatter"
           }
          ],
          "scatter3d": [
           {
            "line": {
             "colorbar": {
              "outlinewidth": 0,
              "ticks": ""
             }
            },
            "marker": {
             "colorbar": {
              "outlinewidth": 0,
              "ticks": ""
             }
            },
            "type": "scatter3d"
           }
          ],
          "scattercarpet": [
           {
            "marker": {
             "colorbar": {
              "outlinewidth": 0,
              "ticks": ""
             }
            },
            "type": "scattercarpet"
           }
          ],
          "scattergeo": [
           {
            "marker": {
             "colorbar": {
              "outlinewidth": 0,
              "ticks": ""
             }
            },
            "type": "scattergeo"
           }
          ],
          "scattergl": [
           {
            "marker": {
             "colorbar": {
              "outlinewidth": 0,
              "ticks": ""
             }
            },
            "type": "scattergl"
           }
          ],
          "scattermapbox": [
           {
            "marker": {
             "colorbar": {
              "outlinewidth": 0,
              "ticks": ""
             }
            },
            "type": "scattermapbox"
           }
          ],
          "scatterpolar": [
           {
            "marker": {
             "colorbar": {
              "outlinewidth": 0,
              "ticks": ""
             }
            },
            "type": "scatterpolar"
           }
          ],
          "scatterpolargl": [
           {
            "marker": {
             "colorbar": {
              "outlinewidth": 0,
              "ticks": ""
             }
            },
            "type": "scatterpolargl"
           }
          ],
          "scatterternary": [
           {
            "marker": {
             "colorbar": {
              "outlinewidth": 0,
              "ticks": ""
             }
            },
            "type": "scatterternary"
           }
          ],
          "surface": [
           {
            "colorbar": {
             "outlinewidth": 0,
             "ticks": ""
            },
            "colorscale": [
             [
              0,
              "#0d0887"
             ],
             [
              0.1111111111111111,
              "#46039f"
             ],
             [
              0.2222222222222222,
              "#7201a8"
             ],
             [
              0.3333333333333333,
              "#9c179e"
             ],
             [
              0.4444444444444444,
              "#bd3786"
             ],
             [
              0.5555555555555556,
              "#d8576b"
             ],
             [
              0.6666666666666666,
              "#ed7953"
             ],
             [
              0.7777777777777778,
              "#fb9f3a"
             ],
             [
              0.8888888888888888,
              "#fdca26"
             ],
             [
              1,
              "#f0f921"
             ]
            ],
            "type": "surface"
           }
          ],
          "table": [
           {
            "cells": {
             "fill": {
              "color": "#EBF0F8"
             },
             "line": {
              "color": "white"
             }
            },
            "header": {
             "fill": {
              "color": "#C8D4E3"
             },
             "line": {
              "color": "white"
             }
            },
            "type": "table"
           }
          ]
         },
         "layout": {
          "annotationdefaults": {
           "arrowcolor": "#2a3f5f",
           "arrowhead": 0,
           "arrowwidth": 1
          },
          "autotypenumbers": "strict",
          "coloraxis": {
           "colorbar": {
            "outlinewidth": 0,
            "ticks": ""
           }
          },
          "colorscale": {
           "diverging": [
            [
             0,
             "#8e0152"
            ],
            [
             0.1,
             "#c51b7d"
            ],
            [
             0.2,
             "#de77ae"
            ],
            [
             0.3,
             "#f1b6da"
            ],
            [
             0.4,
             "#fde0ef"
            ],
            [
             0.5,
             "#f7f7f7"
            ],
            [
             0.6,
             "#e6f5d0"
            ],
            [
             0.7,
             "#b8e186"
            ],
            [
             0.8,
             "#7fbc41"
            ],
            [
             0.9,
             "#4d9221"
            ],
            [
             1,
             "#276419"
            ]
           ],
           "sequential": [
            [
             0,
             "#0d0887"
            ],
            [
             0.1111111111111111,
             "#46039f"
            ],
            [
             0.2222222222222222,
             "#7201a8"
            ],
            [
             0.3333333333333333,
             "#9c179e"
            ],
            [
             0.4444444444444444,
             "#bd3786"
            ],
            [
             0.5555555555555556,
             "#d8576b"
            ],
            [
             0.6666666666666666,
             "#ed7953"
            ],
            [
             0.7777777777777778,
             "#fb9f3a"
            ],
            [
             0.8888888888888888,
             "#fdca26"
            ],
            [
             1,
             "#f0f921"
            ]
           ],
           "sequentialminus": [
            [
             0,
             "#0d0887"
            ],
            [
             0.1111111111111111,
             "#46039f"
            ],
            [
             0.2222222222222222,
             "#7201a8"
            ],
            [
             0.3333333333333333,
             "#9c179e"
            ],
            [
             0.4444444444444444,
             "#bd3786"
            ],
            [
             0.5555555555555556,
             "#d8576b"
            ],
            [
             0.6666666666666666,
             "#ed7953"
            ],
            [
             0.7777777777777778,
             "#fb9f3a"
            ],
            [
             0.8888888888888888,
             "#fdca26"
            ],
            [
             1,
             "#f0f921"
            ]
           ]
          },
          "colorway": [
           "#636efa",
           "#EF553B",
           "#00cc96",
           "#ab63fa",
           "#FFA15A",
           "#19d3f3",
           "#FF6692",
           "#B6E880",
           "#FF97FF",
           "#FECB52"
          ],
          "font": {
           "color": "#2a3f5f"
          },
          "geo": {
           "bgcolor": "white",
           "lakecolor": "white",
           "landcolor": "#E5ECF6",
           "showlakes": true,
           "showland": true,
           "subunitcolor": "white"
          },
          "hoverlabel": {
           "align": "left"
          },
          "hovermode": "closest",
          "mapbox": {
           "style": "light"
          },
          "paper_bgcolor": "white",
          "plot_bgcolor": "#E5ECF6",
          "polar": {
           "angularaxis": {
            "gridcolor": "white",
            "linecolor": "white",
            "ticks": ""
           },
           "bgcolor": "#E5ECF6",
           "radialaxis": {
            "gridcolor": "white",
            "linecolor": "white",
            "ticks": ""
           }
          },
          "scene": {
           "xaxis": {
            "backgroundcolor": "#E5ECF6",
            "gridcolor": "white",
            "gridwidth": 2,
            "linecolor": "white",
            "showbackground": true,
            "ticks": "",
            "zerolinecolor": "white"
           },
           "yaxis": {
            "backgroundcolor": "#E5ECF6",
            "gridcolor": "white",
            "gridwidth": 2,
            "linecolor": "white",
            "showbackground": true,
            "ticks": "",
            "zerolinecolor": "white"
           },
           "zaxis": {
            "backgroundcolor": "#E5ECF6",
            "gridcolor": "white",
            "gridwidth": 2,
            "linecolor": "white",
            "showbackground": true,
            "ticks": "",
            "zerolinecolor": "white"
           }
          },
          "shapedefaults": {
           "line": {
            "color": "#2a3f5f"
           }
          },
          "ternary": {
           "aaxis": {
            "gridcolor": "white",
            "linecolor": "white",
            "ticks": ""
           },
           "baxis": {
            "gridcolor": "white",
            "linecolor": "white",
            "ticks": ""
           },
           "bgcolor": "#E5ECF6",
           "caxis": {
            "gridcolor": "white",
            "linecolor": "white",
            "ticks": ""
           }
          },
          "title": {
           "x": 0.05
          },
          "xaxis": {
           "automargin": true,
           "gridcolor": "white",
           "linecolor": "white",
           "ticks": "",
           "title": {
            "standoff": 15
           },
           "zerolinecolor": "white",
           "zerolinewidth": 2
          },
          "yaxis": {
           "automargin": true,
           "gridcolor": "white",
           "linecolor": "white",
           "ticks": "",
           "title": {
            "standoff": 15
           },
           "zerolinecolor": "white",
           "zerolinewidth": 2
          }
         }
        },
        "title": {
         "text": "GitHub 用户国家分布"
        }
       }
      }
     },
     "metadata": {},
     "output_type": "display_data"
    }
   ],
   "source": [
    "import plotly.express as px\n",
    "import pycountry  # 需要安装：pip install pycountry\n",
    "\n",
    "# 创建国家名称到 ISO 代码的映射函数\n",
    "def get_country_code(country_name):\n",
    "    try:\n",
    "        # 特殊情况处理\n",
    "        if country_name == 'United States':\n",
    "            return 'USA'\n",
    "        elif country_name == 'United Kingdom':\n",
    "            return 'GBR'\n",
    "        elif country_name == 'Czechia':\n",
    "            return 'CZE'\n",
    "        elif country_name == 'Türkiye':\n",
    "            return 'TUR'\n",
    "        \n",
    "        # 使用 pycountry 查找\n",
    "        country = pycountry.countries.get(name=country_name)\n",
    "        if country:\n",
    "            return country.alpha_3\n",
    "        return None\n",
    "    except:\n",
    "        return None\n",
    "\n",
    "# 创建包含 ISO 代码的数据框\n",
    "country_data = pd.DataFrame({\n",
    "    'country': country_counts.index,\n",
    "    'count': country_counts.values\n",
    "})\n",
    "country_data['iso_alpha'] = country_data['country'].apply(get_country_code)\n",
    "\n",
    "# 只保留有效的 ISO 代码\n",
    "country_data = country_data.dropna(subset=['iso_alpha'])\n",
    "\n",
    "# 使用 Plotly 绘制国家分布图\n",
    "fig = px.choropleth(country_data, \n",
    "                    locations='iso_alpha',  # 使用 ISO 代码\n",
    "                    color='count',\n",
    "                    hover_name='country',  # 悬停显示国家名\n",
    "                    title=\"GitHub 用户国家分布\", \n",
    "                    color_continuous_scale=\"Viridis\",\n",
    "                    labels={'count': '用户数量'})\n",
    "\n",
    "fig.update_geos(showcoastlines=True, \n",
    "                coastlinecolor=\"Black\", \n",
    "                projection_type=\"natural earth\")\n",
    "\n",
    "fig.show()\n"
   ]
  },
  {
   "cell_type": "markdown",
   "metadata": {},
   "source": [
    "(2)城市级别分布：分析主要城市的开发者密度，发现技术热点区域。"
   ]
  },
  {
   "cell_type": "code",
   "execution_count": 7,
   "metadata": {},
   "outputs": [
    {
     "name": "stdout",
     "output_type": "stream",
     "text": [
      "前30个城市的开发者分布：\n",
      "location\n",
      "Germany                      107747\n",
      "Prague                        37757\n",
      "Japan                         26986\n",
      "Palo Alto, CA                 19215\n",
      "UK                            17789\n",
      "NYC                           16381\n",
      "San Francisco                 16271\n",
      "Paris, France                 16021\n",
      "Switzerland                   15555\n",
      "Houston, TX                   15449\n",
      "Edinburgh, UK                 15308\n",
      "France                        15128\n",
      "Berlin, Germany               15095\n",
      "Tokyo, Japan                  14877\n",
      "New York                      12893\n",
      "Milan                         12704\n",
      "San Francisco, CA             11271\n",
      "Enschede, The Netherlands     11218\n",
      "Berlin                        10883\n",
      "Cambridge, MA                 10740\n",
      "New Zealand                   10376\n",
      "The Internet                  10060\n",
      "Beijing                        9591\n",
      "London, UK                     9180\n",
      "New York, NY                   8803\n",
      "Netherlands                    8438\n",
      "きさらぎ駅                          8401\n",
      "Zurich                         8346\n",
      "Zurich, Switzerland            8053\n",
      "Boston                         7459\n",
      "Name: count, dtype: int64\n"
     ]
    }
   ],
   "source": [
    "# 统计各个城市的开发者数量\n",
    "city_counts = data['location'].value_counts()\n",
    "\n",
    "# 显示前30个城市\n",
    "print(\"前30个城市的开发者分布：\")\n",
    "print(city_counts.head(30))\n"
   ]
  },
  {
   "cell_type": "code",
   "execution_count": 8,
   "metadata": {},
   "outputs": [
    {
     "data": {
      "application/vnd.plotly.v1+json": {
       "config": {
        "plotlyServerURL": "https://plot.ly"
       },
       "data": [
        {
         "alignmentgroup": "True",
         "hovertemplate": "城市=%{x}<br>开发者数量=%{y}<extra></extra>",
         "legendgroup": "",
         "marker": {
          "color": "#636efa",
          "pattern": {
           "shape": ""
          }
         },
         "name": "",
         "offsetgroup": "",
         "orientation": "v",
         "showlegend": false,
         "textposition": "auto",
         "type": "bar",
         "x": [
          "Germany",
          "Prague",
          "Japan",
          "Palo Alto, CA",
          "UK",
          "NYC",
          "San Francisco",
          "Paris, France",
          "Switzerland",
          "Houston, TX",
          "Edinburgh, UK",
          "France",
          "Berlin, Germany",
          "Tokyo, Japan",
          "New York",
          "Milan",
          "San Francisco, CA",
          "Enschede, The Netherlands",
          "Berlin",
          "Cambridge, MA"
         ],
         "xaxis": "x",
         "y": [
          107747,
          37757,
          26986,
          19215,
          17789,
          16381,
          16271,
          16021,
          15555,
          15449,
          15308,
          15128,
          15095,
          14877,
          12893,
          12704,
          11271,
          11218,
          10883,
          10740
         ],
         "yaxis": "y"
        }
       ],
       "layout": {
        "barmode": "relative",
        "legend": {
         "tracegroupgap": 0
        },
        "template": {
         "data": {
          "bar": [
           {
            "error_x": {
             "color": "#2a3f5f"
            },
            "error_y": {
             "color": "#2a3f5f"
            },
            "marker": {
             "line": {
              "color": "#E5ECF6",
              "width": 0.5
             },
             "pattern": {
              "fillmode": "overlay",
              "size": 10,
              "solidity": 0.2
             }
            },
            "type": "bar"
           }
          ],
          "barpolar": [
           {
            "marker": {
             "line": {
              "color": "#E5ECF6",
              "width": 0.5
             },
             "pattern": {
              "fillmode": "overlay",
              "size": 10,
              "solidity": 0.2
             }
            },
            "type": "barpolar"
           }
          ],
          "carpet": [
           {
            "aaxis": {
             "endlinecolor": "#2a3f5f",
             "gridcolor": "white",
             "linecolor": "white",
             "minorgridcolor": "white",
             "startlinecolor": "#2a3f5f"
            },
            "baxis": {
             "endlinecolor": "#2a3f5f",
             "gridcolor": "white",
             "linecolor": "white",
             "minorgridcolor": "white",
             "startlinecolor": "#2a3f5f"
            },
            "type": "carpet"
           }
          ],
          "choropleth": [
           {
            "colorbar": {
             "outlinewidth": 0,
             "ticks": ""
            },
            "type": "choropleth"
           }
          ],
          "contour": [
           {
            "colorbar": {
             "outlinewidth": 0,
             "ticks": ""
            },
            "colorscale": [
             [
              0,
              "#0d0887"
             ],
             [
              0.1111111111111111,
              "#46039f"
             ],
             [
              0.2222222222222222,
              "#7201a8"
             ],
             [
              0.3333333333333333,
              "#9c179e"
             ],
             [
              0.4444444444444444,
              "#bd3786"
             ],
             [
              0.5555555555555556,
              "#d8576b"
             ],
             [
              0.6666666666666666,
              "#ed7953"
             ],
             [
              0.7777777777777778,
              "#fb9f3a"
             ],
             [
              0.8888888888888888,
              "#fdca26"
             ],
             [
              1,
              "#f0f921"
             ]
            ],
            "type": "contour"
           }
          ],
          "contourcarpet": [
           {
            "colorbar": {
             "outlinewidth": 0,
             "ticks": ""
            },
            "type": "contourcarpet"
           }
          ],
          "heatmap": [
           {
            "colorbar": {
             "outlinewidth": 0,
             "ticks": ""
            },
            "colorscale": [
             [
              0,
              "#0d0887"
             ],
             [
              0.1111111111111111,
              "#46039f"
             ],
             [
              0.2222222222222222,
              "#7201a8"
             ],
             [
              0.3333333333333333,
              "#9c179e"
             ],
             [
              0.4444444444444444,
              "#bd3786"
             ],
             [
              0.5555555555555556,
              "#d8576b"
             ],
             [
              0.6666666666666666,
              "#ed7953"
             ],
             [
              0.7777777777777778,
              "#fb9f3a"
             ],
             [
              0.8888888888888888,
              "#fdca26"
             ],
             [
              1,
              "#f0f921"
             ]
            ],
            "type": "heatmap"
           }
          ],
          "heatmapgl": [
           {
            "colorbar": {
             "outlinewidth": 0,
             "ticks": ""
            },
            "colorscale": [
             [
              0,
              "#0d0887"
             ],
             [
              0.1111111111111111,
              "#46039f"
             ],
             [
              0.2222222222222222,
              "#7201a8"
             ],
             [
              0.3333333333333333,
              "#9c179e"
             ],
             [
              0.4444444444444444,
              "#bd3786"
             ],
             [
              0.5555555555555556,
              "#d8576b"
             ],
             [
              0.6666666666666666,
              "#ed7953"
             ],
             [
              0.7777777777777778,
              "#fb9f3a"
             ],
             [
              0.8888888888888888,
              "#fdca26"
             ],
             [
              1,
              "#f0f921"
             ]
            ],
            "type": "heatmapgl"
           }
          ],
          "histogram": [
           {
            "marker": {
             "pattern": {
              "fillmode": "overlay",
              "size": 10,
              "solidity": 0.2
             }
            },
            "type": "histogram"
           }
          ],
          "histogram2d": [
           {
            "colorbar": {
             "outlinewidth": 0,
             "ticks": ""
            },
            "colorscale": [
             [
              0,
              "#0d0887"
             ],
             [
              0.1111111111111111,
              "#46039f"
             ],
             [
              0.2222222222222222,
              "#7201a8"
             ],
             [
              0.3333333333333333,
              "#9c179e"
             ],
             [
              0.4444444444444444,
              "#bd3786"
             ],
             [
              0.5555555555555556,
              "#d8576b"
             ],
             [
              0.6666666666666666,
              "#ed7953"
             ],
             [
              0.7777777777777778,
              "#fb9f3a"
             ],
             [
              0.8888888888888888,
              "#fdca26"
             ],
             [
              1,
              "#f0f921"
             ]
            ],
            "type": "histogram2d"
           }
          ],
          "histogram2dcontour": [
           {
            "colorbar": {
             "outlinewidth": 0,
             "ticks": ""
            },
            "colorscale": [
             [
              0,
              "#0d0887"
             ],
             [
              0.1111111111111111,
              "#46039f"
             ],
             [
              0.2222222222222222,
              "#7201a8"
             ],
             [
              0.3333333333333333,
              "#9c179e"
             ],
             [
              0.4444444444444444,
              "#bd3786"
             ],
             [
              0.5555555555555556,
              "#d8576b"
             ],
             [
              0.6666666666666666,
              "#ed7953"
             ],
             [
              0.7777777777777778,
              "#fb9f3a"
             ],
             [
              0.8888888888888888,
              "#fdca26"
             ],
             [
              1,
              "#f0f921"
             ]
            ],
            "type": "histogram2dcontour"
           }
          ],
          "mesh3d": [
           {
            "colorbar": {
             "outlinewidth": 0,
             "ticks": ""
            },
            "type": "mesh3d"
           }
          ],
          "parcoords": [
           {
            "line": {
             "colorbar": {
              "outlinewidth": 0,
              "ticks": ""
             }
            },
            "type": "parcoords"
           }
          ],
          "pie": [
           {
            "automargin": true,
            "type": "pie"
           }
          ],
          "scatter": [
           {
            "fillpattern": {
             "fillmode": "overlay",
             "size": 10,
             "solidity": 0.2
            },
            "type": "scatter"
           }
          ],
          "scatter3d": [
           {
            "line": {
             "colorbar": {
              "outlinewidth": 0,
              "ticks": ""
             }
            },
            "marker": {
             "colorbar": {
              "outlinewidth": 0,
              "ticks": ""
             }
            },
            "type": "scatter3d"
           }
          ],
          "scattercarpet": [
           {
            "marker": {
             "colorbar": {
              "outlinewidth": 0,
              "ticks": ""
             }
            },
            "type": "scattercarpet"
           }
          ],
          "scattergeo": [
           {
            "marker": {
             "colorbar": {
              "outlinewidth": 0,
              "ticks": ""
             }
            },
            "type": "scattergeo"
           }
          ],
          "scattergl": [
           {
            "marker": {
             "colorbar": {
              "outlinewidth": 0,
              "ticks": ""
             }
            },
            "type": "scattergl"
           }
          ],
          "scattermapbox": [
           {
            "marker": {
             "colorbar": {
              "outlinewidth": 0,
              "ticks": ""
             }
            },
            "type": "scattermapbox"
           }
          ],
          "scatterpolar": [
           {
            "marker": {
             "colorbar": {
              "outlinewidth": 0,
              "ticks": ""
             }
            },
            "type": "scatterpolar"
           }
          ],
          "scatterpolargl": [
           {
            "marker": {
             "colorbar": {
              "outlinewidth": 0,
              "ticks": ""
             }
            },
            "type": "scatterpolargl"
           }
          ],
          "scatterternary": [
           {
            "marker": {
             "colorbar": {
              "outlinewidth": 0,
              "ticks": ""
             }
            },
            "type": "scatterternary"
           }
          ],
          "surface": [
           {
            "colorbar": {
             "outlinewidth": 0,
             "ticks": ""
            },
            "colorscale": [
             [
              0,
              "#0d0887"
             ],
             [
              0.1111111111111111,
              "#46039f"
             ],
             [
              0.2222222222222222,
              "#7201a8"
             ],
             [
              0.3333333333333333,
              "#9c179e"
             ],
             [
              0.4444444444444444,
              "#bd3786"
             ],
             [
              0.5555555555555556,
              "#d8576b"
             ],
             [
              0.6666666666666666,
              "#ed7953"
             ],
             [
              0.7777777777777778,
              "#fb9f3a"
             ],
             [
              0.8888888888888888,
              "#fdca26"
             ],
             [
              1,
              "#f0f921"
             ]
            ],
            "type": "surface"
           }
          ],
          "table": [
           {
            "cells": {
             "fill": {
              "color": "#EBF0F8"
             },
             "line": {
              "color": "white"
             }
            },
            "header": {
             "fill": {
              "color": "#C8D4E3"
             },
             "line": {
              "color": "white"
             }
            },
            "type": "table"
           }
          ]
         },
         "layout": {
          "annotationdefaults": {
           "arrowcolor": "#2a3f5f",
           "arrowhead": 0,
           "arrowwidth": 1
          },
          "autotypenumbers": "strict",
          "coloraxis": {
           "colorbar": {
            "outlinewidth": 0,
            "ticks": ""
           }
          },
          "colorscale": {
           "diverging": [
            [
             0,
             "#8e0152"
            ],
            [
             0.1,
             "#c51b7d"
            ],
            [
             0.2,
             "#de77ae"
            ],
            [
             0.3,
             "#f1b6da"
            ],
            [
             0.4,
             "#fde0ef"
            ],
            [
             0.5,
             "#f7f7f7"
            ],
            [
             0.6,
             "#e6f5d0"
            ],
            [
             0.7,
             "#b8e186"
            ],
            [
             0.8,
             "#7fbc41"
            ],
            [
             0.9,
             "#4d9221"
            ],
            [
             1,
             "#276419"
            ]
           ],
           "sequential": [
            [
             0,
             "#0d0887"
            ],
            [
             0.1111111111111111,
             "#46039f"
            ],
            [
             0.2222222222222222,
             "#7201a8"
            ],
            [
             0.3333333333333333,
             "#9c179e"
            ],
            [
             0.4444444444444444,
             "#bd3786"
            ],
            [
             0.5555555555555556,
             "#d8576b"
            ],
            [
             0.6666666666666666,
             "#ed7953"
            ],
            [
             0.7777777777777778,
             "#fb9f3a"
            ],
            [
             0.8888888888888888,
             "#fdca26"
            ],
            [
             1,
             "#f0f921"
            ]
           ],
           "sequentialminus": [
            [
             0,
             "#0d0887"
            ],
            [
             0.1111111111111111,
             "#46039f"
            ],
            [
             0.2222222222222222,
             "#7201a8"
            ],
            [
             0.3333333333333333,
             "#9c179e"
            ],
            [
             0.4444444444444444,
             "#bd3786"
            ],
            [
             0.5555555555555556,
             "#d8576b"
            ],
            [
             0.6666666666666666,
             "#ed7953"
            ],
            [
             0.7777777777777778,
             "#fb9f3a"
            ],
            [
             0.8888888888888888,
             "#fdca26"
            ],
            [
             1,
             "#f0f921"
            ]
           ]
          },
          "colorway": [
           "#636efa",
           "#EF553B",
           "#00cc96",
           "#ab63fa",
           "#FFA15A",
           "#19d3f3",
           "#FF6692",
           "#B6E880",
           "#FF97FF",
           "#FECB52"
          ],
          "font": {
           "color": "#2a3f5f"
          },
          "geo": {
           "bgcolor": "white",
           "lakecolor": "white",
           "landcolor": "#E5ECF6",
           "showlakes": true,
           "showland": true,
           "subunitcolor": "white"
          },
          "hoverlabel": {
           "align": "left"
          },
          "hovermode": "closest",
          "mapbox": {
           "style": "light"
          },
          "paper_bgcolor": "white",
          "plot_bgcolor": "#E5ECF6",
          "polar": {
           "angularaxis": {
            "gridcolor": "white",
            "linecolor": "white",
            "ticks": ""
           },
           "bgcolor": "#E5ECF6",
           "radialaxis": {
            "gridcolor": "white",
            "linecolor": "white",
            "ticks": ""
           }
          },
          "scene": {
           "xaxis": {
            "backgroundcolor": "#E5ECF6",
            "gridcolor": "white",
            "gridwidth": 2,
            "linecolor": "white",
            "showbackground": true,
            "ticks": "",
            "zerolinecolor": "white"
           },
           "yaxis": {
            "backgroundcolor": "#E5ECF6",
            "gridcolor": "white",
            "gridwidth": 2,
            "linecolor": "white",
            "showbackground": true,
            "ticks": "",
            "zerolinecolor": "white"
           },
           "zaxis": {
            "backgroundcolor": "#E5ECF6",
            "gridcolor": "white",
            "gridwidth": 2,
            "linecolor": "white",
            "showbackground": true,
            "ticks": "",
            "zerolinecolor": "white"
           }
          },
          "shapedefaults": {
           "line": {
            "color": "#2a3f5f"
           }
          },
          "ternary": {
           "aaxis": {
            "gridcolor": "white",
            "linecolor": "white",
            "ticks": ""
           },
           "baxis": {
            "gridcolor": "white",
            "linecolor": "white",
            "ticks": ""
           },
           "bgcolor": "#E5ECF6",
           "caxis": {
            "gridcolor": "white",
            "linecolor": "white",
            "ticks": ""
           }
          },
          "title": {
           "x": 0.05
          },
          "xaxis": {
           "automargin": true,
           "gridcolor": "white",
           "linecolor": "white",
           "ticks": "",
           "title": {
            "standoff": 15
           },
           "zerolinecolor": "white",
           "zerolinewidth": 2
          },
          "yaxis": {
           "automargin": true,
           "gridcolor": "white",
           "linecolor": "white",
           "ticks": "",
           "title": {
            "standoff": 15
           },
           "zerolinecolor": "white",
           "zerolinewidth": 2
          }
         }
        },
        "title": {
         "text": "GitHub 用户在主要城市的分布"
        },
        "xaxis": {
         "anchor": "y",
         "domain": [
          0,
          1
         ],
         "tickangle": -45,
         "title": {
          "text": "城市"
         }
        },
        "yaxis": {
         "anchor": "x",
         "domain": [
          0,
          1
         ],
         "title": {
          "text": "开发者数量"
         }
        }
       }
      }
     },
     "metadata": {},
     "output_type": "display_data"
    }
   ],
   "source": [
    "# 使用 Plotly 绘制城市分布柱状图\n",
    "fig = px.bar(city_counts.head(20), \n",
    "             x=city_counts.head(20).index, \n",
    "             y=city_counts.head(20).values,\n",
    "             title=\"GitHub 用户在主要城市的分布\", \n",
    "             labels={'x': '城市', 'y': '开发者数量'})\n",
    "fig.update_layout(xaxis_tickangle=-45)  # 设置x轴标签的角度，使其不重叠\n",
    "fig.show()"
   ]
  },
  {
   "cell_type": "code",
   "execution_count": 9,
   "metadata": {},
   "outputs": [
    {
     "data": {
      "application/vnd.plotly.v1+json": {
       "config": {
        "plotlyServerURL": "https://plot.ly"
       },
       "data": [
        {
         "coloraxis": "coloraxis",
         "hovertemplate": "开发者数量=%{z}<br>lat=%{lat}<br>lon=%{lon}<extra></extra>",
         "lat": [
          51.1638175,
          50.0596288,
          36.5748441,
          37.4443293,
          6.3110548,
          40.7127281,
          37.7792588,
          48.8588897,
          46.7985624,
          29.7589382,
          55.9533456,
          46.603354,
          52.510885,
          35.6768601,
          40.7127281,
          45.4641943,
          37.7792588,
          52.2209855,
          52.510885,
          42.3656347,
          -41.5000831,
          51.439277849999996,
          40.190632,
          51.4893335,
          40.7127281,
          52.2434979,
          34.66335755,
          47.3744489,
          47.3744489,
          42.3554334,
          52.215933,
          34.0536909,
          -33.8698439,
          30.2489634,
          40.190632,
          52.3730796,
          39.9527237,
          48.1371079,
          59.6749712,
          36.7014631,
          48.2083537,
          52.0907006,
          42.6384261,
          52.3730796,
          51.4893335,
          37.3361663,
          31.2312707,
          54.7023545,
          -35.2975906,
          40.6526006,
          39.7837304,
          42.3554334,
          43.6534817,
          1.357107,
          35.0000663,
          45.5031824,
          44.4308975,
          42.6977028,
          22.350627,
          28.130489341377064,
          4.5693754,
          59.9133301,
          -35.2975906,
          45.5031824,
          49.2608724,
          45.7578137,
          50.6402809,
          37.8708393,
          34.2331373,
          47.6038321,
          51.7520131,
          -37.8142454,
          41.8755616,
          -24.7761086,
          52.510885,
          44.9772995,
          40.4167047,
          45.1875602,
          51.4790956,
          55.670249,
          43.6044622,
          45.5031824,
          52.2337172,
          30.6598628,
          61.0666922,
          40.17336535,
          49.7439047,
          48.8534951,
          48.1371079,
          41.8878145,
          47.3744489,
          33.6938118,
          51.4893335,
          52.4760892,
          60.1674881
         ],
         "lon": [
          10.4478313,
          14.446459273258009,
          139.2394179,
          -122.1598465,
          20.5447525,
          -74.0060152,
          -122.4193286,
          2.3200410217200766,
          8.2319736,
          -95.3676974,
          -3.1883749,
          1.8883335,
          13.3989367,
          139.7638947,
          -74.0060152,
          9.1896346,
          -122.4193286,
          6.8940537,
          13.3989367,
          -71.1040018,
          172.8344077,
          -0.05522968266539742,
          116.412144,
          -0.14405508452768728,
          -74.0060152,
          5.6343227,
          136.1346856958121,
          8.5410422,
          8.5410422,
          -71.060511,
          19.134422,
          -118.242766,
          151.2082848,
          120.2052342,
          116.412144,
          4.8924534,
          -75.1635262,
          11.5753822,
          14.5208584,
          -118.755997,
          16.3725042,
          5.1215634,
          12.674297,
          4.8924534,
          -0.14405508452768728,
          -121.890591,
          121.4700152,
          -3.2765753,
          149.1012676,
          -73.9497211,
          -100.445882,
          -71.060511,
          -79.3839347,
          103.8194992,
          104.999955,
          -73.5698065,
          -89.6884637,
          23.3217359,
          114.1849161,
          -15.44160695170978,
          102.2656823,
          10.7389701,
          149.1012676,
          -73.5698065,
          -123.113952,
          4.8320114,
          4.6667145,
          -122.272863,
          -102.4107493,
          -122.330062,
          -1.2578499,
          144.9631732,
          -87.6244212,
          134.755,
          13.3989367,
          -93.2654692,
          -3.7035825,
          5.7357819,
          5.6557686,
          10.3333283,
          1.4442469,
          -73.5698065,
          21.071432235636493,
          104.0633717,
          -107.991707,
          116.15722001868669,
          15.3381061,
          2.3483915,
          11.5753822,
          -87.7887615,
          8.5410422,
          73.0651511,
          -0.14405508452768728,
          -71.8258668,
          24.9427473
         ],
         "name": "",
         "radius": 30,
         "subplot": "mapbox",
         "type": "densitymapbox",
         "z": [
          107747,
          37757,
          26986,
          19215,
          17789,
          16381,
          16271,
          16021,
          15555,
          15449,
          15308,
          15128,
          15095,
          14877,
          12893,
          12704,
          11271,
          11218,
          10883,
          10740,
          10376,
          10060,
          9591,
          9180,
          8803,
          8438,
          8401,
          8346,
          8053,
          7459,
          7255,
          7126,
          6925,
          6901,
          6873,
          6855,
          6609,
          6599,
          6451,
          6314,
          6231,
          6209,
          6204,
          6037,
          5854,
          5678,
          5558,
          5525,
          5505,
          5494,
          5287,
          5231,
          5206,
          5205,
          5059,
          4971,
          4896,
          4875,
          4767,
          4690,
          4538,
          4513,
          4494,
          4421,
          4395,
          4382,
          4306,
          4271,
          4267,
          4238,
          4230,
          4228,
          4177,
          4085,
          4039,
          4019,
          3995,
          3941,
          3877,
          3833,
          3798,
          3779,
          3680,
          3620,
          3595,
          3583,
          3532,
          3495,
          3461,
          3444,
          3421,
          3394,
          3366,
          3352,
          3294
         ]
        }
       ],
       "layout": {
        "coloraxis": {
         "colorbar": {
          "title": {
           "text": "开发者数量"
          }
         },
         "colorscale": [
          [
           0,
           "#0d0887"
          ],
          [
           0.1111111111111111,
           "#46039f"
          ],
          [
           0.2222222222222222,
           "#7201a8"
          ],
          [
           0.3333333333333333,
           "#9c179e"
          ],
          [
           0.4444444444444444,
           "#bd3786"
          ],
          [
           0.5555555555555556,
           "#d8576b"
          ],
          [
           0.6666666666666666,
           "#ed7953"
          ],
          [
           0.7777777777777778,
           "#fb9f3a"
          ],
          [
           0.8888888888888888,
           "#fdca26"
          ],
          [
           1,
           "#f0f921"
          ]
         ]
        },
        "legend": {
         "tracegroupgap": 0
        },
        "mapbox": {
         "center": {
          "lat": 20,
          "lon": 0
         },
         "domain": {
          "x": [
           0,
           1
          ],
          "y": [
           0,
           1
          ]
         },
         "style": "carto-positron",
         "zoom": 1
        },
        "margin": {
         "b": 0,
         "l": 0,
         "r": 0,
         "t": 30
        },
        "template": {
         "data": {
          "bar": [
           {
            "error_x": {
             "color": "#2a3f5f"
            },
            "error_y": {
             "color": "#2a3f5f"
            },
            "marker": {
             "line": {
              "color": "#E5ECF6",
              "width": 0.5
             },
             "pattern": {
              "fillmode": "overlay",
              "size": 10,
              "solidity": 0.2
             }
            },
            "type": "bar"
           }
          ],
          "barpolar": [
           {
            "marker": {
             "line": {
              "color": "#E5ECF6",
              "width": 0.5
             },
             "pattern": {
              "fillmode": "overlay",
              "size": 10,
              "solidity": 0.2
             }
            },
            "type": "barpolar"
           }
          ],
          "carpet": [
           {
            "aaxis": {
             "endlinecolor": "#2a3f5f",
             "gridcolor": "white",
             "linecolor": "white",
             "minorgridcolor": "white",
             "startlinecolor": "#2a3f5f"
            },
            "baxis": {
             "endlinecolor": "#2a3f5f",
             "gridcolor": "white",
             "linecolor": "white",
             "minorgridcolor": "white",
             "startlinecolor": "#2a3f5f"
            },
            "type": "carpet"
           }
          ],
          "choropleth": [
           {
            "colorbar": {
             "outlinewidth": 0,
             "ticks": ""
            },
            "type": "choropleth"
           }
          ],
          "contour": [
           {
            "colorbar": {
             "outlinewidth": 0,
             "ticks": ""
            },
            "colorscale": [
             [
              0,
              "#0d0887"
             ],
             [
              0.1111111111111111,
              "#46039f"
             ],
             [
              0.2222222222222222,
              "#7201a8"
             ],
             [
              0.3333333333333333,
              "#9c179e"
             ],
             [
              0.4444444444444444,
              "#bd3786"
             ],
             [
              0.5555555555555556,
              "#d8576b"
             ],
             [
              0.6666666666666666,
              "#ed7953"
             ],
             [
              0.7777777777777778,
              "#fb9f3a"
             ],
             [
              0.8888888888888888,
              "#fdca26"
             ],
             [
              1,
              "#f0f921"
             ]
            ],
            "type": "contour"
           }
          ],
          "contourcarpet": [
           {
            "colorbar": {
             "outlinewidth": 0,
             "ticks": ""
            },
            "type": "contourcarpet"
           }
          ],
          "heatmap": [
           {
            "colorbar": {
             "outlinewidth": 0,
             "ticks": ""
            },
            "colorscale": [
             [
              0,
              "#0d0887"
             ],
             [
              0.1111111111111111,
              "#46039f"
             ],
             [
              0.2222222222222222,
              "#7201a8"
             ],
             [
              0.3333333333333333,
              "#9c179e"
             ],
             [
              0.4444444444444444,
              "#bd3786"
             ],
             [
              0.5555555555555556,
              "#d8576b"
             ],
             [
              0.6666666666666666,
              "#ed7953"
             ],
             [
              0.7777777777777778,
              "#fb9f3a"
             ],
             [
              0.8888888888888888,
              "#fdca26"
             ],
             [
              1,
              "#f0f921"
             ]
            ],
            "type": "heatmap"
           }
          ],
          "heatmapgl": [
           {
            "colorbar": {
             "outlinewidth": 0,
             "ticks": ""
            },
            "colorscale": [
             [
              0,
              "#0d0887"
             ],
             [
              0.1111111111111111,
              "#46039f"
             ],
             [
              0.2222222222222222,
              "#7201a8"
             ],
             [
              0.3333333333333333,
              "#9c179e"
             ],
             [
              0.4444444444444444,
              "#bd3786"
             ],
             [
              0.5555555555555556,
              "#d8576b"
             ],
             [
              0.6666666666666666,
              "#ed7953"
             ],
             [
              0.7777777777777778,
              "#fb9f3a"
             ],
             [
              0.8888888888888888,
              "#fdca26"
             ],
             [
              1,
              "#f0f921"
             ]
            ],
            "type": "heatmapgl"
           }
          ],
          "histogram": [
           {
            "marker": {
             "pattern": {
              "fillmode": "overlay",
              "size": 10,
              "solidity": 0.2
             }
            },
            "type": "histogram"
           }
          ],
          "histogram2d": [
           {
            "colorbar": {
             "outlinewidth": 0,
             "ticks": ""
            },
            "colorscale": [
             [
              0,
              "#0d0887"
             ],
             [
              0.1111111111111111,
              "#46039f"
             ],
             [
              0.2222222222222222,
              "#7201a8"
             ],
             [
              0.3333333333333333,
              "#9c179e"
             ],
             [
              0.4444444444444444,
              "#bd3786"
             ],
             [
              0.5555555555555556,
              "#d8576b"
             ],
             [
              0.6666666666666666,
              "#ed7953"
             ],
             [
              0.7777777777777778,
              "#fb9f3a"
             ],
             [
              0.8888888888888888,
              "#fdca26"
             ],
             [
              1,
              "#f0f921"
             ]
            ],
            "type": "histogram2d"
           }
          ],
          "histogram2dcontour": [
           {
            "colorbar": {
             "outlinewidth": 0,
             "ticks": ""
            },
            "colorscale": [
             [
              0,
              "#0d0887"
             ],
             [
              0.1111111111111111,
              "#46039f"
             ],
             [
              0.2222222222222222,
              "#7201a8"
             ],
             [
              0.3333333333333333,
              "#9c179e"
             ],
             [
              0.4444444444444444,
              "#bd3786"
             ],
             [
              0.5555555555555556,
              "#d8576b"
             ],
             [
              0.6666666666666666,
              "#ed7953"
             ],
             [
              0.7777777777777778,
              "#fb9f3a"
             ],
             [
              0.8888888888888888,
              "#fdca26"
             ],
             [
              1,
              "#f0f921"
             ]
            ],
            "type": "histogram2dcontour"
           }
          ],
          "mesh3d": [
           {
            "colorbar": {
             "outlinewidth": 0,
             "ticks": ""
            },
            "type": "mesh3d"
           }
          ],
          "parcoords": [
           {
            "line": {
             "colorbar": {
              "outlinewidth": 0,
              "ticks": ""
             }
            },
            "type": "parcoords"
           }
          ],
          "pie": [
           {
            "automargin": true,
            "type": "pie"
           }
          ],
          "scatter": [
           {
            "fillpattern": {
             "fillmode": "overlay",
             "size": 10,
             "solidity": 0.2
            },
            "type": "scatter"
           }
          ],
          "scatter3d": [
           {
            "line": {
             "colorbar": {
              "outlinewidth": 0,
              "ticks": ""
             }
            },
            "marker": {
             "colorbar": {
              "outlinewidth": 0,
              "ticks": ""
             }
            },
            "type": "scatter3d"
           }
          ],
          "scattercarpet": [
           {
            "marker": {
             "colorbar": {
              "outlinewidth": 0,
              "ticks": ""
             }
            },
            "type": "scattercarpet"
           }
          ],
          "scattergeo": [
           {
            "marker": {
             "colorbar": {
              "outlinewidth": 0,
              "ticks": ""
             }
            },
            "type": "scattergeo"
           }
          ],
          "scattergl": [
           {
            "marker": {
             "colorbar": {
              "outlinewidth": 0,
              "ticks": ""
             }
            },
            "type": "scattergl"
           }
          ],
          "scattermapbox": [
           {
            "marker": {
             "colorbar": {
              "outlinewidth": 0,
              "ticks": ""
             }
            },
            "type": "scattermapbox"
           }
          ],
          "scatterpolar": [
           {
            "marker": {
             "colorbar": {
              "outlinewidth": 0,
              "ticks": ""
             }
            },
            "type": "scatterpolar"
           }
          ],
          "scatterpolargl": [
           {
            "marker": {
             "colorbar": {
              "outlinewidth": 0,
              "ticks": ""
             }
            },
            "type": "scatterpolargl"
           }
          ],
          "scatterternary": [
           {
            "marker": {
             "colorbar": {
              "outlinewidth": 0,
              "ticks": ""
             }
            },
            "type": "scatterternary"
           }
          ],
          "surface": [
           {
            "colorbar": {
             "outlinewidth": 0,
             "ticks": ""
            },
            "colorscale": [
             [
              0,
              "#0d0887"
             ],
             [
              0.1111111111111111,
              "#46039f"
             ],
             [
              0.2222222222222222,
              "#7201a8"
             ],
             [
              0.3333333333333333,
              "#9c179e"
             ],
             [
              0.4444444444444444,
              "#bd3786"
             ],
             [
              0.5555555555555556,
              "#d8576b"
             ],
             [
              0.6666666666666666,
              "#ed7953"
             ],
             [
              0.7777777777777778,
              "#fb9f3a"
             ],
             [
              0.8888888888888888,
              "#fdca26"
             ],
             [
              1,
              "#f0f921"
             ]
            ],
            "type": "surface"
           }
          ],
          "table": [
           {
            "cells": {
             "fill": {
              "color": "#EBF0F8"
             },
             "line": {
              "color": "white"
             }
            },
            "header": {
             "fill": {
              "color": "#C8D4E3"
             },
             "line": {
              "color": "white"
             }
            },
            "type": "table"
           }
          ]
         },
         "layout": {
          "annotationdefaults": {
           "arrowcolor": "#2a3f5f",
           "arrowhead": 0,
           "arrowwidth": 1
          },
          "autotypenumbers": "strict",
          "coloraxis": {
           "colorbar": {
            "outlinewidth": 0,
            "ticks": ""
           }
          },
          "colorscale": {
           "diverging": [
            [
             0,
             "#8e0152"
            ],
            [
             0.1,
             "#c51b7d"
            ],
            [
             0.2,
             "#de77ae"
            ],
            [
             0.3,
             "#f1b6da"
            ],
            [
             0.4,
             "#fde0ef"
            ],
            [
             0.5,
             "#f7f7f7"
            ],
            [
             0.6,
             "#e6f5d0"
            ],
            [
             0.7,
             "#b8e186"
            ],
            [
             0.8,
             "#7fbc41"
            ],
            [
             0.9,
             "#4d9221"
            ],
            [
             1,
             "#276419"
            ]
           ],
           "sequential": [
            [
             0,
             "#0d0887"
            ],
            [
             0.1111111111111111,
             "#46039f"
            ],
            [
             0.2222222222222222,
             "#7201a8"
            ],
            [
             0.3333333333333333,
             "#9c179e"
            ],
            [
             0.4444444444444444,
             "#bd3786"
            ],
            [
             0.5555555555555556,
             "#d8576b"
            ],
            [
             0.6666666666666666,
             "#ed7953"
            ],
            [
             0.7777777777777778,
             "#fb9f3a"
            ],
            [
             0.8888888888888888,
             "#fdca26"
            ],
            [
             1,
             "#f0f921"
            ]
           ],
           "sequentialminus": [
            [
             0,
             "#0d0887"
            ],
            [
             0.1111111111111111,
             "#46039f"
            ],
            [
             0.2222222222222222,
             "#7201a8"
            ],
            [
             0.3333333333333333,
             "#9c179e"
            ],
            [
             0.4444444444444444,
             "#bd3786"
            ],
            [
             0.5555555555555556,
             "#d8576b"
            ],
            [
             0.6666666666666666,
             "#ed7953"
            ],
            [
             0.7777777777777778,
             "#fb9f3a"
            ],
            [
             0.8888888888888888,
             "#fdca26"
            ],
            [
             1,
             "#f0f921"
            ]
           ]
          },
          "colorway": [
           "#636efa",
           "#EF553B",
           "#00cc96",
           "#ab63fa",
           "#FFA15A",
           "#19d3f3",
           "#FF6692",
           "#B6E880",
           "#FF97FF",
           "#FECB52"
          ],
          "font": {
           "color": "#2a3f5f"
          },
          "geo": {
           "bgcolor": "white",
           "lakecolor": "white",
           "landcolor": "#E5ECF6",
           "showlakes": true,
           "showland": true,
           "subunitcolor": "white"
          },
          "hoverlabel": {
           "align": "left"
          },
          "hovermode": "closest",
          "mapbox": {
           "style": "light"
          },
          "paper_bgcolor": "white",
          "plot_bgcolor": "#E5ECF6",
          "polar": {
           "angularaxis": {
            "gridcolor": "white",
            "linecolor": "white",
            "ticks": ""
           },
           "bgcolor": "#E5ECF6",
           "radialaxis": {
            "gridcolor": "white",
            "linecolor": "white",
            "ticks": ""
           }
          },
          "scene": {
           "xaxis": {
            "backgroundcolor": "#E5ECF6",
            "gridcolor": "white",
            "gridwidth": 2,
            "linecolor": "white",
            "showbackground": true,
            "ticks": "",
            "zerolinecolor": "white"
           },
           "yaxis": {
            "backgroundcolor": "#E5ECF6",
            "gridcolor": "white",
            "gridwidth": 2,
            "linecolor": "white",
            "showbackground": true,
            "ticks": "",
            "zerolinecolor": "white"
           },
           "zaxis": {
            "backgroundcolor": "#E5ECF6",
            "gridcolor": "white",
            "gridwidth": 2,
            "linecolor": "white",
            "showbackground": true,
            "ticks": "",
            "zerolinecolor": "white"
           }
          },
          "shapedefaults": {
           "line": {
            "color": "#2a3f5f"
           }
          },
          "ternary": {
           "aaxis": {
            "gridcolor": "white",
            "linecolor": "white",
            "ticks": ""
           },
           "baxis": {
            "gridcolor": "white",
            "linecolor": "white",
            "ticks": ""
           },
           "bgcolor": "#E5ECF6",
           "caxis": {
            "gridcolor": "white",
            "linecolor": "white",
            "ticks": ""
           }
          },
          "title": {
           "x": 0.05
          },
          "xaxis": {
           "automargin": true,
           "gridcolor": "white",
           "linecolor": "white",
           "ticks": "",
           "title": {
            "standoff": 15
           },
           "zerolinecolor": "white",
           "zerolinewidth": 2
          },
          "yaxis": {
           "automargin": true,
           "gridcolor": "white",
           "linecolor": "white",
           "ticks": "",
           "title": {
            "standoff": 15
           },
           "zerolinecolor": "white",
           "zerolinewidth": 2
          }
         }
        },
        "title": {
         "text": "GitHub 开发者全球城市分布热力图"
        }
       }
      }
     },
     "metadata": {},
     "output_type": "display_data"
    }
   ],
   "source": [
    "from geopy.geocoders import Nominatim\n",
    "from geopy.exc import GeocoderTimedOut\n",
    "import time\n",
    "\n",
    "# 初始化地理编码器\n",
    "geolocator = Nominatim(user_agent=\"my_github_analysis\")\n",
    "\n",
    "def get_lat_lon(city):\n",
    "    try:\n",
    "        # 添加延时避免请求过快\n",
    "        time.sleep(1)\n",
    "        location = geolocator.geocode(city)\n",
    "        if location:\n",
    "            return (location.latitude, location.longitude)\n",
    "        return None\n",
    "    except GeocoderTimedOut:\n",
    "        return None\n",
    "\n",
    "# 获取前100个城市的坐标（为了演示，可以根据需要调整数量）\n",
    "city_data = []\n",
    "for city, count in city_counts.head(100).items():\n",
    "    coords = get_lat_lon(city)\n",
    "    if coords:\n",
    "        city_data.append({\n",
    "            'city': city,\n",
    "            'lat': coords[0],\n",
    "            'lon': coords[1],\n",
    "            'count': count\n",
    "        })\n",
    "\n",
    "# 转换为DataFrame\n",
    "city_df = pd.DataFrame(city_data)\n",
    "\n",
    "# 创建热力图\n",
    "fig = px.density_mapbox(city_df, \n",
    "                       lat='lat', \n",
    "                       lon='lon', \n",
    "                       z='count',\n",
    "                       radius=30,  # 热力点的半径\n",
    "                       center=dict(lat=20, lon=0),  # 地图中心\n",
    "                       zoom=1,  # 缩放级别\n",
    "                       title='GitHub 开发者全球城市分布热力图',\n",
    "                       mapbox_style='carto-positron',  # 地图样式\n",
    "                       labels={'count': '开发者数量'})\n",
    "\n",
    "fig.update_layout(\n",
    "    mapbox=dict(\n",
    "        style='carto-positron',\n",
    "    ),\n",
    "    margin={\"r\":0,\"t\":30,\"l\":0,\"b\":0}\n",
    ")\n",
    "\n",
    "fig.show()"
   ]
  },
  {
   "cell_type": "markdown",
   "metadata": {},
   "source": [
    "(3)时区分布:了解用户的时区分布，分析不同地区用户的协作时间模式。"
   ]
  },
  {
   "cell_type": "code",
   "execution_count": 12,
   "metadata": {},
   "outputs": [
    {
     "data": {
      "image/png": "[encoded data removed]",
      "text/plain": [
       "<Figure size 1500x800 with 1 Axes>"
      ]
     },
     "metadata": {},
     "output_type": "display_data"
    },
    {
     "name": "stdout",
     "output_type": "stream",
     "text": [
      "\n",
      "时区分布统计：\n",
      "timezone\n",
      "America/New_York       122\n",
      "Europe/Berlin           59\n",
      "Asia/Shanghai           34\n",
      "America/St_Johns        24\n",
      "Europe/Paris            24\n",
      "Europe/London           21\n",
      "Europe/Amsterdam        18\n",
      "Australia/Lord_Howe     15\n",
      "Europe/Zurich           14\n",
      "Asia/Tokyo              13\n",
      "Europe/Rome             10\n",
      "Europe/Warsaw           10\n",
      "Pacific/Auckland         7\n",
      "Europe/Madrid            7\n",
      "Europe/Vienna            6\n",
      "Europe/Prague            6\n",
      "Europe/Stockholm         5\n",
      "Europe/Copenhagen        5\n",
      "Europe/Brussels          4\n",
      "Asia/Singapore           4\n",
      "Europe/Budapest          4\n",
      "Europe/Helsinki          4\n",
      "Asia/Kolkata             3\n",
      "Europe/Sofia             3\n",
      "America/Noronha          3\n",
      "Europe/Oslo              2\n",
      "Asia/Hong_Kong           2\n",
      "Asia/Jakarta             2\n",
      "Asia/Dubai               2\n",
      "Asia/Karachi             2\n",
      "Europe/Lisbon            2\n",
      "Asia/Kuala_Lumpur        2\n",
      "Asia/Jerusalem           1\n",
      "Asia/Beirut              1\n",
      "Africa/Cairo             1\n",
      "Africa/Johannesburg      1\n",
      "Africa/Tunis             1\n",
      "Africa/Nairobi           1\n",
      "America/Guayaquil        1\n",
      "America/Bogota           1\n",
      "Africa/Addis_Ababa       1\n",
      "Europe/Dublin            1\n",
      "Asia/Tbilisi             1\n",
      "Europe/Athens            1\n",
      "Europe/Istanbul          1\n",
      "Europe/Ljubljana         1\n",
      "Europe/Vilnius           1\n",
      "Europe/Tallinn           1\n",
      "Name: user_id, dtype: int64\n"
     ]
    }
   ],
   "source": [
    "import matplotlib.pyplot as plt\n",
    "from pytz import country_timezones\n",
    "\n",
    "# 定义国家名称到 alpha-2 代码的映射函数\n",
    "def get_country_alpha2(country_name):\n",
    "    try:\n",
    "        # 特殊情况处理\n",
    "        if country_name == 'United States':\n",
    "            return 'US'\n",
    "        elif country_name == 'United Kingdom':\n",
    "            return 'GB'\n",
    "        elif country_name == 'Czechia':\n",
    "            return 'CZ'\n",
    "        elif country_name == 'Türkiye':\n",
    "            return 'TR'\n",
    "        \n",
    "        # 使用 pycountry 查找\n",
    "        country = pycountry.countries.get(name=country_name)\n",
    "        if country:\n",
    "            return country.alpha_2\n",
    "        return None\n",
    "    except:\n",
    "        return None\n",
    "\n",
    "# 定义国家到时区的映射\n",
    "def get_timezone_from_country(country_name):\n",
    "    alpha2 = get_country_alpha2(country_name)\n",
    "    if alpha2:\n",
    "        try:\n",
    "            timezones = country_timezones[alpha2]\n",
    "            return timezones[0]  # 如果有多个时区，默认选择第一个\n",
    "        except KeyError:\n",
    "            return 'Unknown'\n",
    "    return 'Unknown'\n",
    "\n",
    "# 为每个用户添加时区信息\n",
    "data['timezone'] = data['country'].apply(get_timezone_from_country)\n",
    "\n",
    "# 按用户ID和时区分组，然后计算每个时区的唯一用户数\n",
    "timezone_user_counts = data.groupby('timezone')['user_id'].nunique().sort_values(ascending=False)\n",
    "\n",
    "# 过滤掉 'Unknown' 时区（如果需要的话）\n",
    "timezone_user_counts = timezone_user_counts[timezone_user_counts.index != 'Unknown']\n",
    "\n",
    "# 可视化时区分布\n",
    "plt.figure(figsize=(15, 8))\n",
    "timezone_user_counts.plot(kind='bar', color='skyblue')\n",
    "plt.title('GitHub Users Distribution by Timezone', fontsize=16)\n",
    "plt.xlabel('Timezone', fontsize=12)\n",
    "plt.ylabel('Number of Unique Users', fontsize=12)\n",
    "plt.xticks(rotation=45, ha='right')\n",
    "plt.grid(axis='y', linestyle='--', alpha=0.7)\n",
    "plt.tight_layout()\n",
    "plt.show()\n",
    "\n",
    "# 打印具体数据\n",
    "print(\"\\n时区分布统计：\")\n",
    "print(timezone_user_counts)"
   ]
  },
  {
   "cell_type": "code",
   "execution_count": 13,
   "metadata": {},
   "outputs": [
    {
     "data": {
      "image/png": "[encoded data removed]",
      "text/plain": [
       "<Figure size 1500x800 with 2 Axes>"
      ]
     },
     "metadata": {},
     "output_type": "display_data"
    },
    {
     "name": "stdout",
     "output_type": "stream",
     "text": [
      "\n",
      "各国活动高峰时段（UTC+8）：\n",
      "country\n",
      "United States     18\n",
      "Germany           10\n",
      "China              9\n",
      "United Kingdom    10\n",
      "France            13\n",
      "Canada            16\n",
      "Netherlands       15\n",
      "Czechia           11\n",
      "Japan              1\n",
      "Switzerland        7\n",
      "dtype: int32\n"
     ]
    },
    {
     "data": {
      "image/png": "[encoded data removed]",
      "text/plain": [
       "<Figure size 1500x600 with 1 Axes>"
      ]
     },
     "metadata": {},
     "output_type": "display_data"
    },
    {
     "name": "stdout",
     "output_type": "stream",
     "text": [
      "\n",
      "各国工作时间（9-17点）活动占比：\n",
      "country\n",
      "United States     38.37%\n",
      "Germany           60.06%\n",
      "China             41.33%\n",
      "United Kingdom    58.84%\n",
      "France            59.12%\n",
      "Canada            44.95%\n",
      "Netherlands       56.21%\n",
      "Czechia           44.90%\n",
      "Japan             34.89%\n",
      "Switzerland       43.70%\n",
      "dtype: object\n"
     ]
    },
    {
     "name": "stderr",
     "output_type": "stream",
     "text": [
      "C:\\Users\\20826\\AppData\\Local\\Temp\\ipykernel_82332\\2204402110.py:57: DeprecationWarning:\n",
      "\n",
      "DataFrameGroupBy.apply operated on the grouping columns. This behavior is deprecated, and in a future version of pandas the grouping columns will be excluded from the operation. Either pass `include_groups=False` to exclude the groupings or explicitly select the grouping columns after groupby to silence this warning.\n",
      "\n"
     ]
    }
   ],
   "source": [
    "# 分析不同地区用户的协作时间模式\n",
    "import seaborn as sns\n",
    "\n",
    "# 将event_time转换为datetime类型\n",
    "data['event_time'] = pd.to_datetime(data['event_time'])\n",
    "\n",
    "# 提取小时信息\n",
    "data['hour'] = data['event_time'].dt.hour\n",
    "\n",
    "# 按国家和小时分组统计活动次数\n",
    "country_hour_counts = data.groupby(['country', 'hour']).size().unstack()\n",
    "\n",
    "# 选择活动量最大的前10个国家进行可视化\n",
    "top_10_countries = data['country'].value_counts().head(10).index\n",
    "\n",
    "# 创建热力图\n",
    "plt.figure(figsize=(15, 8))\n",
    "sns.heatmap(country_hour_counts.loc[top_10_countries], \n",
    "            cmap='YlOrRd',\n",
    "            cbar_kws={'label': 'Number of Activities'},\n",
    "            fmt='g')\n",
    "\n",
    "plt.title('Activity Patterns by Hour for Top 10 Countries')\n",
    "plt.xlabel('Hour of Day (UTC+8)')\n",
    "plt.ylabel('Country')\n",
    "plt.tight_layout()\n",
    "plt.show()\n",
    "\n",
    "# 分析每个国家的高峰时段\n",
    "peak_hours = country_hour_counts.idxmax(axis=1)\n",
    "print(\"\\n各国活动高峰时段（UTC+8）：\")\n",
    "print(peak_hours[top_10_countries])\n",
    "\n",
    "# 计算每个国家的活动时间分布\n",
    "plt.figure(figsize=(15, 6))\n",
    "for country in top_10_countries:\n",
    "    country_data = data[data['country'] == country]\n",
    "    hour_dist = country_data['hour'].value_counts().sort_index()\n",
    "    plt.plot(hour_dist.index, hour_dist.values, label=country, alpha=0.7)\n",
    "\n",
    "plt.title('Daily Activity Distribution by Country')\n",
    "plt.xlabel('Hour of Day (UTC+8)')\n",
    "plt.ylabel('Number of Activities')\n",
    "plt.legend(bbox_to_anchor=(1.05, 1), loc='upper left')\n",
    "plt.grid(True, alpha=0.3)\n",
    "plt.tight_layout()\n",
    "plt.show()\n",
    "\n",
    "# 计算工作时间（9-17点）vs非工作时间的活动比例\n",
    "def calculate_work_hours_ratio(group):\n",
    "    work_hours = group[(group['hour'] >= 9) & (group['hour'] <= 17)].shape[0]\n",
    "    total = group.shape[0]\n",
    "    return work_hours / total if total > 0 else 0\n",
    "\n",
    "work_ratio = data.groupby('country').apply(calculate_work_hours_ratio).sort_values(ascending=False)\n",
    "\n",
    "print(\"\\n各国工作时间（9-17点）活动占比：\")\n",
    "print(work_ratio[top_10_countries].apply(lambda x: f\"{x:.2%}\"))"
   ]
  },
  {
   "cell_type": "markdown",
   "metadata": {},
   "source": [
    "2.协作行为分析\n",
    "提交频率：统计每个用户的提交次数，识别高活跃用户和低活跃用户。"
   ]
  },
  {
   "cell_type": "code",
   "execution_count": 10,
   "metadata": {},
   "outputs": [
    {
     "name": "stdout",
     "output_type": "stream",
     "text": [
      "活动频率统计信息：\n",
      "count      497.000000\n",
      "mean      2605.183099\n",
      "std       3182.585434\n",
      "min         75.000000\n",
      "25%       1463.000000\n",
      "50%       2026.000000\n",
      "75%       2716.000000\n",
      "max      37960.000000\n",
      "dtype: float64\n"
     ]
    },
    {
     "data": {
      "image/png": "[encoded data removed]",
      "text/plain": [
       "<Figure size 700x500 with 1 Axes>"
      ]
     },
     "metadata": {},
     "output_type": "display_data"
    },
    {
     "data": {
      "image/png": "[encoded data removed]",
      "text/plain": [
       "<Figure size 1200x600 with 1 Axes>"
      ]
     },
     "metadata": {},
     "output_type": "display_data"
    },
    {
     "name": "stdout",
     "output_type": "stream",
     "text": [
      "\n",
      "高活跃用户主要来源国家：\n",
      "country\n",
      "United States     140372\n",
      "Germany           110012\n",
      "United Kingdom     47372\n",
      "Czechia            42746\n",
      "Japan              32824\n",
      "China              32097\n",
      "France             31484\n",
      "Netherlands        30842\n",
      "Canada             25833\n",
      "Australia          19477\n",
      "Name: count, dtype: int64\n",
      "\n",
      "高活跃用户主要活动类型：\n",
      "event_type\n",
      "PushEvent                        225401\n",
      "PullRequestEvent                 100033\n",
      "PullRequestReviewEvent            77732\n",
      "IssueCommentEvent                 65220\n",
      "CreateEvent                       61958\n",
      "DeleteEvent                       57142\n",
      "PullRequestReviewCommentEvent     40088\n",
      "IssuesEvent                       15354\n",
      "ReleaseEvent                       6435\n",
      "WatchEvent                         2027\n",
      "ForkEvent                          1369\n",
      "CommitCommentEvent                  320\n",
      "MemberEvent                         166\n",
      "GollumEvent                         144\n",
      "PublicEvent                          16\n",
      "Name: count, dtype: int64\n",
      "\n",
      "用户活动时间跨度统计（天）：\n",
      "count    497.000000\n",
      "mean      59.048290\n",
      "std        2.675622\n",
      "min       28.000000\n",
      "25%       59.000000\n",
      "50%       60.000000\n",
      "75%       60.000000\n",
      "max       60.000000\n",
      "Name: event_time, dtype: float64\n"
     ]
    },
    {
     "data": {
      "image/png": "[encoded data removed]",
      "text/plain": [
       "<Figure size 1200x600 with 1 Axes>"
      ]
     },
     "metadata": {},
     "output_type": "display_data"
    }
   ],
   "source": [
    "# 设置中文字体\n",
    "plt.rcParams['font.family'] = 'Microsoft YaHei'\n",
    "# 统计每个用户的活动次数\n",
    "user_activity = data.groupby('user_id').size().sort_values(ascending=False)\n",
    "\n",
    "# 计算活动频率的基本统计信息\n",
    "activity_stats = user_activity.describe()\n",
    "print(\"活动频率统计信息：\")\n",
    "print(activity_stats)\n",
    "\n",
    "# 定义活跃度分类函数\n",
    "def classify_activity(count, percentile_75=activity_stats['75%'], percentile_25=activity_stats['25%']):\n",
    "    if count >= percentile_75:\n",
    "        return '高活跃'\n",
    "    elif count <= percentile_25:\n",
    "        return '低活跃'\n",
    "    else:\n",
    "        return '中等活跃'\n",
    "\n",
    "# 创建用户活跃度分类\n",
    "user_categories = user_activity.apply(classify_activity)\n",
    "category_counts = user_categories.value_counts()\n",
    "\n",
    "# 绘制用户活跃度分布饼图\n",
    "plt.figure(figsize=(7, 5))\n",
    "plt.pie(category_counts, labels=category_counts.index, autopct='%1.1f%%', colors=[\"#87CEEB\",\"#ADD8E6\",\"#F0FFFF\"])\n",
    "plt.title('用户活跃度分布')\n",
    "plt.show()\n",
    "\n",
    "# 绘制用户活动次数分布直方图\n",
    "plt.figure(figsize=(12, 6))\n",
    "plt.hist(user_activity, bins=50, edgecolor='black')\n",
    "plt.title('用户活动次数分布')\n",
    "plt.xlabel('活动次数')\n",
    "plt.ylabel('用户数量')\n",
    "plt.yscale('log')  # 使用对数刻度更好地展示分布\n",
    "plt.grid(True, alpha=0.3)\n",
    "plt.show()\n",
    "\n",
    "# 分析高活跃用户的特征\n",
    "high_active_users = user_activity[user_activity >= activity_stats['75%']]\n",
    "high_active_data = data[data['user_id'].isin(high_active_users.index)]\n",
    "\n",
    "# 统计高活跃用户的国家分布\n",
    "high_active_countries = high_active_data['country'].value_counts().head(10)\n",
    "print(\"\\n高活跃用户主要来源国家：\")\n",
    "print(high_active_countries)\n",
    "\n",
    "# 分析高活跃用户的活动类型\n",
    "high_active_events = high_active_data['event_type'].value_counts()\n",
    "print(\"\\n高活跃用户主要活动类型：\")\n",
    "print(high_active_events)\n",
    "\n",
    "# 计算用户活跃度的时间连续性\n",
    "user_time_spans = data.groupby('user_id').agg({\n",
    "    'event_time': lambda x: (pd.to_datetime(x.max()) - pd.to_datetime(x.min())).days\n",
    "}).sort_values('event_time', ascending=False)\n",
    "\n",
    "print(\"\\n用户活动时间跨度统计（天）：\")\n",
    "print(user_time_spans['event_time'].describe())\n",
    "\n",
    "# 绘制高活跃用户的活动类型分布\n",
    "plt.figure(figsize=(12, 6))\n",
    "high_active_events.plot(kind='bar')\n",
    "plt.title('高活跃用户的活动类型分布')\n",
    "plt.xlabel('活动类型')\n",
    "plt.ylabel('活动次数')\n",
    "plt.xticks(rotation=45)\n",
    "plt.tight_layout()\n",
    "plt.show()"
   ]
  },
  {
   "cell_type": "markdown",
   "metadata": {},
   "source": [
    "3.其他维度有趣的洞察（3个）"
   ]
  },
  {
   "cell_type": "code",
   "execution_count": 23,
   "metadata": {},
   "outputs": [
    {
     "data": {
      "image/png": "[encoded data removed]",
      "text/plain": [
       "<Figure size 1200x600 with 1 Axes>"
      ]
     },
     "metadata": {},
     "output_type": "display_data"
    },
    {
     "name": "stdout",
     "output_type": "stream",
     "text": [
      "\n",
      "高影响力用户的主要活动类型：\n",
      "event_type\n",
      "PushEvent                        97125\n",
      "PullRequestEvent                 60443\n",
      "PullRequestReviewEvent           41861\n",
      "IssueCommentEvent                41517\n",
      "DeleteEvent                      24587\n",
      "CreateEvent                      23142\n",
      "PullRequestReviewCommentEvent    20347\n",
      "IssuesEvent                      13303\n",
      "ReleaseEvent                      3310\n",
      "WatchEvent                         958\n",
      "ForkEvent                          302\n",
      "CommitCommentEvent                  92\n",
      "MemberEvent                         91\n",
      "GollumEvent                         60\n",
      "PublicEvent                          6\n",
      "Name: count, dtype: int64\n"
     ]
    }
   ],
   "source": [
    "# 1. 用户影响力与活动类型的关系分析\n",
    "# 识别哪些类型的活动与用户影响力最相关\n",
    "# 了解高影响力用户的行为模式\n",
    "# 发现可能的因果关系\n",
    "\n",
    "# 设置中文字体\n",
    "plt.rcParams['font.family'] = 'Microsoft YaHei'\n",
    "\n",
    "plt.figure(figsize=(12, 6))\n",
    "influence_by_event = data.groupby('event_type')['total_influence'].mean().sort_values(ascending=False)\n",
    "\n",
    "plt.bar(influence_by_event.index, influence_by_event.values, color='skyblue')\n",
    "plt.title('不同活动类型的平均用户影响力')\n",
    "plt.xlabel('活动类型')\n",
    "plt.ylabel('平均影响力')\n",
    "plt.xticks(rotation=45)\n",
    "plt.grid(True, alpha=0.3)\n",
    "plt.tight_layout()\n",
    "plt.show()\n",
    "\n",
    "# 计算高影响力用户的主要活动模式\n",
    "high_influence_threshold = data['total_influence'].quantile(0.75)\n",
    "high_influence_users = data[data['total_influence'] >= high_influence_threshold]\n",
    "high_influence_events = high_influence_users['event_type'].value_counts()\n",
    "\n",
    "print(\"\\n高影响力用户的主要活动类型：\")\n",
    "print(high_influence_events)"
   ]
  },
  {
   "cell_type": "code",
   "execution_count": 25,
   "metadata": {},
   "outputs": [
    {
     "data": {
      "image/png": "[encoded data removed]",
      "text/plain": [
       "<Figure size 1000x600 with 1 Axes>"
      ]
     },
     "metadata": {},
     "output_type": "display_data"
    },
    {
     "name": "stdout",
     "output_type": "stream",
     "text": [
      "\n",
      "用户活动连续性统计：\n",
      "\n",
      "活动天数统计：\n",
      "count    497.000000\n",
      "mean      54.674044\n",
      "std        7.192513\n",
      "min       14.000000\n",
      "25%       51.000000\n",
      "50%       57.000000\n",
      "75%       60.000000\n",
      "max       61.000000\n",
      "Name: nunique_dates, dtype: float64\n",
      "\n",
      "活动密度统计：\n",
      "count    497.000000\n",
      "mean       0.900815\n",
      "std        0.102333\n",
      "min        0.270233\n",
      "25%        0.850083\n",
      "50%        0.934997\n",
      "75%        0.983004\n",
      "max        1.001966\n",
      "Name: activity_density, dtype: float64\n",
      "\n",
      "稳定活跃用户数量：95\n",
      "占总用户比例：19.11%\n",
      "\n",
      "稳定活跃用户的主要活动类型：\n",
      "event_type\n",
      "PushEvent                 111604\n",
      "IssueCommentEvent          49363\n",
      "PullRequestEvent           43346\n",
      "PullRequestReviewEvent     38147\n",
      "CreateEvent                35014\n",
      "Name: count, dtype: int64\n"
     ]
    }
   ],
   "source": [
    "# 2. 用户协作行为的连续性分析\n",
    "# 用户活动的连续性和稳定性\n",
    "# 活动密度分布\n",
    "# 日均活动次数分布\n",
    "# 稳定活跃用户的特征\n",
    "# 首先确保event_time是datetime类型\n",
    "data['event_time'] = pd.to_datetime(data['event_time'])\n",
    "\n",
    "# 直接使用event_time进行分析，不再创建date列\n",
    "user_activity_dates = data.groupby('user_id')['event_time'].agg([\n",
    "    ('nunique_dates', lambda x: len(x.dt.date.unique())),\n",
    "    ('min_date', 'min'),\n",
    "    ('max_date', 'max')\n",
    "]).reset_index()\n",
    "\n",
    "# 计算日期跨度（天数）\n",
    "user_activity_dates['date_span'] = (user_activity_dates['max_date'] - user_activity_dates['min_date']).dt.total_seconds() / (24*60*60)\n",
    "user_activity_dates['activity_density'] = user_activity_dates['nunique_dates'] / (user_activity_dates['date_span'] + 1)\n",
    "\n",
    "# 绘制活动密度分布\n",
    "plt.figure(figsize=(10, 6))\n",
    "plt.hist(user_activity_dates['activity_density'], bins=50, edgecolor='black')\n",
    "plt.title('用户活动密度分布')\n",
    "plt.xlabel('活动密度（活动天数/总跨度天数）')\n",
    "plt.ylabel('用户数量')\n",
    "plt.grid(True, alpha=0.3)\n",
    "plt.show()\n",
    "\n",
    "# 输出统计信息\n",
    "print(\"\\n用户活动连续性统计：\")\n",
    "print(\"\\n活动天数统计：\")\n",
    "print(user_activity_dates['nunique_dates'].describe())\n",
    "\n",
    "print(\"\\n活动密度统计：\")\n",
    "print(user_activity_dates['activity_density'].describe())\n",
    "\n",
    "# 识别最稳定活跃的用户\n",
    "stable_active_users = user_activity_dates[\n",
    "    (user_activity_dates['activity_density'] > user_activity_dates['activity_density'].quantile(0.75)) &\n",
    "    (user_activity_dates['date_span'] > user_activity_dates['date_span'].quantile(0.5))\n",
    "]\n",
    "\n",
    "print(f\"\\n稳定活跃用户数量：{len(stable_active_users)}\")\n",
    "print(f\"占总用户比例：{len(stable_active_users) / len(user_activity_dates):.2%}\")\n",
    "\n",
    "# 分析稳定活跃用户的特征\n",
    "stable_users_data = data[data['user_id'].isin(stable_active_users['user_id'])]\n",
    "print(\"\\n稳定活跃用户的主要活动类型：\")\n",
    "print(stable_users_data['event_type'].value_counts().head())"
   ]
  },
  {
   "cell_type": "code",
   "execution_count": 28,
   "metadata": {},
   "outputs": [
    {
     "data": {
      "text/plain": [
       "<Figure size 1500x800 with 0 Axes>"
      ]
     },
     "metadata": {},
     "output_type": "display_data"
    },
    {
     "data": {
      "image/png": "[encoded data removed]",
      "text/plain": [
       "<Figure size 640x480 with 1 Axes>"
      ]
     },
     "metadata": {},
     "output_type": "display_data"
    },
    {
     "name": "stdout",
     "output_type": "stream",
     "text": [
      "\n",
      "各时间段的主要活动类型：\n",
      "\n",
      "上午时段最常见的活动：\n",
      "event_type\n",
      "PushEvent                 122097\n",
      "PullRequestEvent           57215\n",
      "IssueCommentEvent          49438\n",
      "PullRequestReviewEvent     43626\n",
      "DeleteEvent                30191\n",
      "Name: count, dtype: int64\n",
      "\n",
      "下午时段最常见的活动：\n",
      "event_type\n",
      "PushEvent                 118611\n",
      "PullRequestEvent           62906\n",
      "IssueCommentEvent          59243\n",
      "PullRequestReviewEvent     49636\n",
      "CreateEvent                31082\n",
      "Name: count, dtype: int64\n",
      "\n",
      "凌晨时段最常见的活动：\n",
      "event_type\n",
      "PushEvent                 72091\n",
      "PullRequestEvent          33831\n",
      "IssueCommentEvent         24604\n",
      "PullRequestReviewEvent    23773\n",
      "CreateEvent               20327\n",
      "Name: count, dtype: int64\n",
      "\n",
      "晚上时段最常见的活动：\n",
      "event_type\n",
      "PushEvent                 85755\n",
      "PullRequestEvent          41544\n",
      "IssueCommentEvent         36656\n",
      "PullRequestReviewEvent    30784\n",
      "CreateEvent               21080\n",
      "Name: count, dtype: int64\n"
     ]
    },
    {
     "name": "stderr",
     "output_type": "stream",
     "text": [
      "C:\\Users\\20826\\AppData\\Local\\Temp\\ipykernel_82332\\2979812523.py:32: FutureWarning:\n",
      "\n",
      "The default of observed=False is deprecated and will be changed to True in a future version of pandas. Pass observed=False to retain current behavior or observed=True to adopt the future default and silence this warning.\n",
      "\n"
     ]
    }
   ],
   "source": [
    "# 3. 事件类型的昼夜分布模式\n",
    "# 了解不同类型活动的时间偏好\n",
    "# 发现用户的工作习惯\n",
    "# 优化协作时间安排\n",
    "# 确保event_time是datetime类型\n",
    "data['event_time'] = pd.to_datetime(data['event_time'])\n",
    "data['hour'] = data['event_time'].dt.hour\n",
    "\n",
    "# 使用dropna确保没有NaN值\n",
    "data['time_period'] = pd.cut(data['hour'], \n",
    "                            bins=[0, 6, 12, 18, 24],\n",
    "                            labels=['凌晨', '上午', '下午', '晚上'])\n",
    "data = data.dropna(subset=['time_period'])\n",
    "\n",
    "# 创建事件类型和时间段的交叉表\n",
    "event_time_dist = pd.crosstab(data['event_type'], data['time_period'])\n",
    "\n",
    "# 绘制堆叠柱状图，调整图形大小和布局\n",
    "plt.figure(figsize=(15, 8))  # 增加图形宽度\n",
    "event_time_dist.plot(kind='bar', stacked=True)\n",
    "plt.title('不同类型事件的昼夜分布', pad=20)  # 增加标题和图形的间距\n",
    "plt.xlabel('事件类型')\n",
    "plt.ylabel('事件数量')\n",
    "\n",
    "# 调整x轴标签\n",
    "plt.xticks(rotation=45, ha='right')  # 添加ha='right'使文字右对齐\n",
    "plt.legend(title='时间段', bbox_to_anchor=(1.05, 1))\n",
    "\n",
    "# 调整布局，确保所有元素可见\n",
    "plt.tight_layout()\n",
    "plt.subplots_adjust(right=0.85)  # 为图例留出空间\n",
    "plt.show()\n",
    "\n",
    "# 计算每个时间段的主要活动类型\n",
    "time_period_events = data.groupby('time_period')['event_type'].value_counts()\n",
    "print(\"\\n各时间段的主要活动类型：\")\n",
    "for period in sorted(data['time_period'].unique()):  # 使用sorted确保顺序一致\n",
    "    print(f\"\\n{period}时段最常见的活动：\")\n",
    "    print(time_period_events[period].head())"
   ]
  }
 ],
 "metadata": {
  "kernelspec": {
   "display_name": "Python 3",
   "language": "python",
   "name": "python3"
  },
  "language_info": {
   "codemirror_mode": {
    "name": "ipython",
    "version": 3
   },
   "file_extension": ".py",
   "mimetype": "text/x-python",
   "name": "python",
   "nbconvert_exporter": "python",
   "pygments_lexer": "ipython3",
   "version": "3.12.0"
  }
 },
 "nbformat": 4,
 "nbformat_minor": 2
}
