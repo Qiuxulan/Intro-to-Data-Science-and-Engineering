{
 "cells": [
  {
   "cell_type": "markdown",
   "metadata": {},
   "source": [
    "1. 编写 Python 程序，求两个正整数的最大公约数。"
   ]
  },
  {
   "cell_type": "code",
   "execution_count": 7,
   "metadata": {},
   "outputs": [
    {
     "name": "stdout",
     "output_type": "stream",
     "text": [
      "8\n"
     ]
    }
   ],
   "source": [
    "a,b=map(int,input().split())\n",
    "i=b\n",
    "if a<b:\n",
    "    i=a\n",
    "while i>=2 :\n",
    "    if a%i==0 and b%i==0:\n",
    "        break\n",
    "    i-=1\n",
    "print(i)"
   ]
  },
  {
   "cell_type": "markdown",
   "metadata": {},
   "source": [
    "2. 用if语句实现百分制转等级制（考试成绩，60分以下不合格，60—74分合格，75—89分为良好，90分以上为优秀）。"
   ]
  },
  {
   "cell_type": "code",
   "execution_count": null,
   "metadata": {},
   "outputs": [
    {
     "name": "stdout",
     "output_type": "stream",
     "text": [
      "良好\n"
     ]
    }
   ],
   "source": [
    "sco=int(input())\n",
    "if sco < 60:\n",
    "    print(\"不及格\")\n",
    "elif 60<=sco<=74:\n",
    "    print(\"合格\")\n",
    "elif 75<=sco<=89:\n",
    "    print(\"良好\")\n",
    "else:\n",
    "    print(\"优秀\")"
   ]
  },
  {
   "cell_type": "markdown",
   "metadata": {},
   "source": [
    "3. 编写Python程序，完成十进制小数到二进制小数的转换"
   ]
  },
  {
   "cell_type": "code",
   "execution_count": 2,
   "metadata": {},
   "outputs": [
    {
     "name": "stdout",
     "output_type": "stream",
     "text": [
      ".1011001100110011001100110011001100110011001100110011"
     ]
    }
   ],
   "source": [
    "a=float(input())\n",
    "x=int(a)\n",
    "y=a-x\n",
    "l1=[]\n",
    "l2=[]\n",
    "while x!=0:\n",
    "    l1.append(str(x%2))\n",
    "    x=x//2\n",
    "l1.reverse()\n",
    "while y-int(y)!=0:\n",
    "    l2.append(str(int(y*2)))\n",
    "    y=y*2-int(y*2)\n",
    "for i in range(0,len(l1)):\n",
    "    print(l1[i],end='')\n",
    "print(\".\",end='')\n",
    "for j in range(0,len(l2)):\n",
    "    print(l2[j],end='')\n"
   ]
  },
  {
   "cell_type": "markdown",
   "metadata": {},
   "source": [
    "4. 编写Python程序，产生10-20的随机浮点数"
   ]
  },
  {
   "cell_type": "code",
   "execution_count": 4,
   "metadata": {},
   "outputs": [
    {
     "name": "stdout",
     "output_type": "stream",
     "text": [
      "14.631699497449029\n"
     ]
    }
   ],
   "source": [
    "import random\n",
    "print(random.uniform(10,20))\n"
   ]
  },
  {
   "cell_type": "markdown",
   "metadata": {},
   "source": [
    "5. 编写一个Python函数，判断一个整数是否是回文数。回文数是指正序（从左向右）和倒序（从右向左）读都是一样的数。"
   ]
  },
  {
   "cell_type": "code",
   "execution_count": 13,
   "metadata": {},
   "outputs": [
    {
     "name": "stdout",
     "output_type": "stream",
     "text": [
      "686\n",
      "是回文数\n"
     ]
    }
   ],
   "source": [
    "def hw(a):\n",
    "    a=str(a)\n",
    "    print(a)\n",
    "    if a==a[::-1]:\n",
    "        return \"是回文数\"\n",
    "    else :\n",
    "        return \"不是回文数\"\n",
    "n=int(input())\n",
    "print(hw(n))"
   ]
  },
  {
   "cell_type": "markdown",
   "metadata": {},
   "source": [
    "6.编写一个Python函数，返回一个包含斐波那契数列的前N个数的列表。斐波那契数列是一个数列，其中每个数是前两个数的和，数列以0和1开始。"
   ]
  },
  {
   "cell_type": "code",
   "execution_count": 1,
   "metadata": {},
   "outputs": [
    {
     "name": "stdout",
     "output_type": "stream",
     "text": [
      "[0, 1, 1, 2, 3, 5]\n"
     ]
    }
   ],
   "source": [
    "def feibo(n):\n",
    "    l=[0,1]\n",
    "    for i in range(2,n):\n",
    "        l.append(l[i-1]+l[i-2])\n",
    "    return l\n",
    "a=int(input())\n",
    "print(feibo(a))"
   ]
  },
  {
   "cell_type": "markdown",
   "metadata": {},
   "source": [
    "7.编写一个Python函数，接受一个整数数组作为输入，返回数组中第二大的数。如果数组中只有一个元素或数组为空，则返回-1。"
   ]
  },
  {
   "cell_type": "code",
   "execution_count": 3,
   "metadata": {},
   "outputs": [
    {
     "name": "stdout",
     "output_type": "stream",
     "text": [
      "7\n"
     ]
    }
   ],
   "source": [
    "def second(l):\n",
    "    max=l[0]\n",
    "    maxl=l[0]\n",
    "    m=n=0\n",
    "    if len(l) in [0,1]:\n",
    "        return -1\n",
    "    else:\n",
    "        for i in range(0,len(l)):\n",
    "            if l[i]>max:\n",
    "                max=l[i]\n",
    "                m=i\n",
    "        for j in range(0,len(l)):\n",
    "            if (l[j]>maxl and j!=m):\n",
    "                maxl=l[j]\n",
    "                n=j\n",
    "        return maxl\n",
    "a=[int(i) for i in input().split()]\n",
    "print(second(a))"
   ]
  },
  {
   "cell_type": "markdown",
   "metadata": {},
   "source": [
    "8. 编写一个函数，使其能够用正则表达式的方式简单验证身份证号是否合法。"
   ]
  },
  {
   "cell_type": "code",
   "execution_count": 4,
   "metadata": {},
   "outputs": [
    {
     "name": "stdout",
     "output_type": "stream",
     "text": [
      "True\n"
     ]
    }
   ],
   "source": [
    "import re\n",
    "def validate_id_card(id_card):\n",
    "    pattern = r'^[1-9]\\d{5}(19|20)\\d{2}(0[1-9]|1[0-2])(0[1-9]|[1-2]\\d|3[0-1])\\d{3}(\\d|X|x)$'\n",
    "    if re.match(pattern,id_card):\n",
    "        return True\n",
    "    else:\n",
    "        return False\n",
    "a=input()\n",
    "print(validate_id_card(a))"
   ]
  }
 ],
 "metadata": {
  "kernelspec": {
   "display_name": "Python 3",
   "language": "python",
   "name": "python3"
  },
  "language_info": {
   "codemirror_mode": {
    "name": "ipython",
    "version": 3
   },
   "file_extension": ".py",
   "mimetype": "text/x-python",
   "name": "python",
   "nbconvert_exporter": "python",
   "pygments_lexer": "ipython3",
   "version": "3.12.0"
  }
 },
 "nbformat": 4,
 "nbformat_minor": 2
}
